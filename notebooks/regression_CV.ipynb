{
 "cells": [
  {
   "cell_type": "markdown",
   "id": "dec10909",
   "metadata": {},
   "source": [
    "We perform cross-validation for different models for regression and save the results."
   ]
  },
  {
   "cell_type": "markdown",
   "id": "59a79e10",
   "metadata": {},
   "source": [
    "# Imports"
   ]
  },
  {
   "cell_type": "code",
   "execution_count": 4,
   "id": "f5e0cb5e",
   "metadata": {},
   "outputs": [],
   "source": [
    "# Standard imports\n",
    "\n",
    "import pandas as pd\n",
    "import numpy as np"
   ]
  },
  {
   "cell_type": "code",
   "execution_count": 5,
   "id": "d7cdbd3e",
   "metadata": {},
   "outputs": [],
   "source": [
    "# Sklearn imports\n",
    "\n",
    "from sklearn.linear_model import Lasso, LinearRegression, Ridge\n",
    "from sklearn.neighbors import KNeighborsRegressor\n",
    "from sklearn.ensemble import GradientBoostingRegressor, RandomForestRegressor"
   ]
  },
  {
   "cell_type": "markdown",
   "id": "9885b006",
   "metadata": {},
   "source": [
    "# Load data"
   ]
  },
  {
   "cell_type": "code",
   "execution_count": null,
   "id": "8605004c",
   "metadata": {},
   "outputs": [],
   "source": [
    "from src.utils import get_data\n",
    "\n",
    "data = get_data()\n",
    "X_train, y_train = data[0], data[2]"
   ]
  },
  {
   "cell_type": "markdown",
   "id": "7ade8f94",
   "metadata": {},
   "source": [
    "# Define models"
   ]
  },
  {
   "cell_type": "code",
   "execution_count": 10,
   "id": "74cdeab0",
   "metadata": {},
   "outputs": [],
   "source": [
    "lin_reg = (\"lin_reg\", LinearRegression(), {})\n",
    "ridge = (\"ridge\", Ridge(), {\"ridge__alpha\": np.logspace(-3, 3, 7)})\n",
    "lasso = (\"lasso\", Lasso(), {\"lasso__alpha\": np.logspace(-3, 3, 7)})\n",
    "knn = (\"knn\", KNeighborsRegressor(), {\"knn__n_neighbors\": [1, 3, 5, 10, 20, 50]})\n",
    "random_forest = (\n",
    "    \"random_forest\",\n",
    "    RandomForestRegressor(random_state=314),\n",
    "    {\n",
    "        \"random_forest__n_estimators\": [1, 10, 100, 500],\n",
    "        \"random_forest__max_depth\": [1, 2, 3, 4, 5],\n",
    "    },\n",
    ")\n",
    "gb_reg = (\n",
    "    \"gb_reg\",\n",
    "    GradientBoostingRegressor(random_state=314),\n",
    "    {\"gb_reg__n_estimators\": [1, 10, 100, 500], \"gb_reg__max_depth\": [1, 2, 3, 4, 5]},\n",
    ")\n",
    "\n",
    "models = [lin_reg, ridge, lasso, knn, random_forest, gb_reg]"
   ]
  },
  {
   "cell_type": "markdown",
   "id": "32cb7d04",
   "metadata": {},
   "source": [
    "# Apply CV"
   ]
  },
  {
   "cell_type": "code",
   "execution_count": null,
   "id": "13a9165a",
   "metadata": {},
   "outputs": [],
   "source": [
    "from src.utils import grid_search_best\n",
    "\n",
    "results_dic = {}\n",
    "\n",
    "for model in models:\n",
    "    \"\"\"\n",
    "    Performs grid search for the given model and parameters, with standard scaling.\n",
    "    \"\"\"\n",
    "    results_dic[model[0]] = grid_search_best(X_train, y_train, *model)\n",
    "\n",
    "results = pd.DataFrame(results_dic)"
   ]
  },
  {
   "cell_type": "code",
   "execution_count": 13,
   "id": "80da431c",
   "metadata": {},
   "outputs": [
    {
     "data": {
      "application/vnd.microsoft.datawrangler.viewer.v0+json": {
       "columns": [
        {
         "name": "index",
         "rawType": "int64",
         "type": "integer"
        },
        {
         "name": "lin_reg",
         "rawType": "object",
         "type": "unknown"
        },
        {
         "name": "ridge",
         "rawType": "object",
         "type": "unknown"
        },
        {
         "name": "lasso",
         "rawType": "object",
         "type": "unknown"
        },
        {
         "name": "knn",
         "rawType": "object",
         "type": "unknown"
        },
        {
         "name": "random_forest",
         "rawType": "object",
         "type": "unknown"
        },
        {
         "name": "gb_reg",
         "rawType": "object",
         "type": "unknown"
        }
       ],
       "ref": "163b01ff-59d0-417c-86cf-b48b63b40f04",
       "rows": [
        [
         "0",
         "{}",
         "{'ridge__alpha': np.float64(10.0)}",
         "{'lasso__alpha': np.float64(0.1)}",
         "{'knn__n_neighbors': 10}",
         "{'random_forest__max_depth': 3, 'random_forest__n_estimators': 500}",
         "{'gb_reg__max_depth': 1, 'gb_reg__n_estimators': 100}"
        ],
        [
         "1",
         "0.579474775347186",
         "0.5795305002420074",
         "0.5797313987576956",
         "0.5178052239723949",
         "0.5694660685671498",
         "0.57958739294117"
        ]
       ],
       "shape": {
        "columns": 6,
        "rows": 2
       }
      },
      "text/html": [
       "<div>\n",
       "<style scoped>\n",
       "    .dataframe tbody tr th:only-of-type {\n",
       "        vertical-align: middle;\n",
       "    }\n",
       "\n",
       "    .dataframe tbody tr th {\n",
       "        vertical-align: top;\n",
       "    }\n",
       "\n",
       "    .dataframe thead th {\n",
       "        text-align: right;\n",
       "    }\n",
       "</style>\n",
       "<table border=\"1\" class=\"dataframe\">\n",
       "  <thead>\n",
       "    <tr style=\"text-align: right;\">\n",
       "      <th></th>\n",
       "      <th>lin_reg</th>\n",
       "      <th>ridge</th>\n",
       "      <th>lasso</th>\n",
       "      <th>knn</th>\n",
       "      <th>random_forest</th>\n",
       "      <th>gb_reg</th>\n",
       "    </tr>\n",
       "  </thead>\n",
       "  <tbody>\n",
       "    <tr>\n",
       "      <th>0</th>\n",
       "      <td>{}</td>\n",
       "      <td>{'ridge__alpha': 10.0}</td>\n",
       "      <td>{'lasso__alpha': 0.1}</td>\n",
       "      <td>{'knn__n_neighbors': 10}</td>\n",
       "      <td>{'random_forest__max_depth': 3, 'random_forest...</td>\n",
       "      <td>{'gb_reg__max_depth': 1, 'gb_reg__n_estimators...</td>\n",
       "    </tr>\n",
       "    <tr>\n",
       "      <th>1</th>\n",
       "      <td>0.579475</td>\n",
       "      <td>0.579531</td>\n",
       "      <td>0.579731</td>\n",
       "      <td>0.517805</td>\n",
       "      <td>0.569466</td>\n",
       "      <td>0.579587</td>\n",
       "    </tr>\n",
       "  </tbody>\n",
       "</table>\n",
       "</div>"
      ],
      "text/plain": [
       "    lin_reg                   ridge                  lasso  \\\n",
       "0        {}  {'ridge__alpha': 10.0}  {'lasso__alpha': 0.1}   \n",
       "1  0.579475                0.579531               0.579731   \n",
       "\n",
       "                        knn  \\\n",
       "0  {'knn__n_neighbors': 10}   \n",
       "1                  0.517805   \n",
       "\n",
       "                                       random_forest  \\\n",
       "0  {'random_forest__max_depth': 3, 'random_forest...   \n",
       "1                                           0.569466   \n",
       "\n",
       "                                              gb_reg  \n",
       "0  {'gb_reg__max_depth': 1, 'gb_reg__n_estimators...  \n",
       "1                                           0.579587  "
      ]
     },
     "execution_count": 13,
     "metadata": {},
     "output_type": "execute_result"
    }
   ],
   "source": [
    "results"
   ]
  },
  {
   "cell_type": "markdown",
   "id": "6e24d482",
   "metadata": {},
   "source": [
    "We see that the best models, and essentially equivalent, are linear regression (with or without regularization) and gradient boosting.\n",
    "\n",
    "Let us these models try with polynomial features."
   ]
  },
  {
   "cell_type": "code",
   "execution_count": null,
   "id": "90f82be1",
   "metadata": {},
   "outputs": [],
   "source": [
    "# With polynomial features, degree up to 3.\n",
    "\n",
    "models_poly = [lin_reg, ridge, lasso, gb_reg]\n",
    "results_dic_poly = {}\n",
    "\n",
    "for model in models_poly:\n",
    "    \"\"\"\n",
    "    Performs grid search for the given model and parameters, with standard scaling.\n",
    "    \"\"\"\n",
    "    results_dic_poly[model[0]] = grid_search_best(\n",
    "        X_train, y_train, *model, polyfeat=True\n",
    "    )\n",
    "\n",
    "results_poly = pd.DataFrame(results_dic_poly)"
   ]
  },
  {
   "cell_type": "code",
   "execution_count": 16,
   "id": "ec770838",
   "metadata": {},
   "outputs": [
    {
     "data": {
      "application/vnd.microsoft.datawrangler.viewer.v0+json": {
       "columns": [
        {
         "name": "index",
         "rawType": "int64",
         "type": "integer"
        },
        {
         "name": "lin_reg",
         "rawType": "object",
         "type": "unknown"
        },
        {
         "name": "ridge",
         "rawType": "object",
         "type": "unknown"
        },
        {
         "name": "lasso",
         "rawType": "object",
         "type": "unknown"
        },
        {
         "name": "gb_reg",
         "rawType": "object",
         "type": "unknown"
        }
       ],
       "ref": "77e6d5b9-c297-4a2e-9f75-d511d1dbfe1c",
       "rows": [
        [
         "0",
         "{'poly_feat__degree': 1}",
         "{'poly_feat__degree': 1, 'ridge__alpha': np.float64(10.0)}",
         "{'lasso__alpha': np.float64(0.1), 'poly_feat__degree': 1}",
         "{'gb_reg__max_depth': 1, 'gb_reg__n_estimators': 100, 'poly_feat__degree': 2}"
        ],
        [
         "1",
         "0.5794747753471859",
         "0.5795305002420075",
         "0.5797313987576956",
         "0.5822970298969425"
        ]
       ],
       "shape": {
        "columns": 4,
        "rows": 2
       }
      },
      "text/html": [
       "<div>\n",
       "<style scoped>\n",
       "    .dataframe tbody tr th:only-of-type {\n",
       "        vertical-align: middle;\n",
       "    }\n",
       "\n",
       "    .dataframe tbody tr th {\n",
       "        vertical-align: top;\n",
       "    }\n",
       "\n",
       "    .dataframe thead th {\n",
       "        text-align: right;\n",
       "    }\n",
       "</style>\n",
       "<table border=\"1\" class=\"dataframe\">\n",
       "  <thead>\n",
       "    <tr style=\"text-align: right;\">\n",
       "      <th></th>\n",
       "      <th>lin_reg</th>\n",
       "      <th>ridge</th>\n",
       "      <th>lasso</th>\n",
       "      <th>gb_reg</th>\n",
       "    </tr>\n",
       "  </thead>\n",
       "  <tbody>\n",
       "    <tr>\n",
       "      <th>0</th>\n",
       "      <td>{'poly_feat__degree': 1}</td>\n",
       "      <td>{'poly_feat__degree': 1, 'ridge__alpha': 10.0}</td>\n",
       "      <td>{'lasso__alpha': 0.1, 'poly_feat__degree': 1}</td>\n",
       "      <td>{'gb_reg__max_depth': 1, 'gb_reg__n_estimators...</td>\n",
       "    </tr>\n",
       "    <tr>\n",
       "      <th>1</th>\n",
       "      <td>0.579475</td>\n",
       "      <td>0.579531</td>\n",
       "      <td>0.579731</td>\n",
       "      <td>0.582297</td>\n",
       "    </tr>\n",
       "  </tbody>\n",
       "</table>\n",
       "</div>"
      ],
      "text/plain": [
       "                    lin_reg                                           ridge  \\\n",
       "0  {'poly_feat__degree': 1}  {'poly_feat__degree': 1, 'ridge__alpha': 10.0}   \n",
       "1                  0.579475                                        0.579531   \n",
       "\n",
       "                                           lasso  \\\n",
       "0  {'lasso__alpha': 0.1, 'poly_feat__degree': 1}   \n",
       "1                                       0.579731   \n",
       "\n",
       "                                              gb_reg  \n",
       "0  {'gb_reg__max_depth': 1, 'gb_reg__n_estimators...  \n",
       "1                                           0.582297  "
      ]
     },
     "execution_count": 16,
     "metadata": {},
     "output_type": "execute_result"
    }
   ],
   "source": [
    "results_poly"
   ]
  },
  {
   "cell_type": "markdown",
   "id": "93f1e8b3",
   "metadata": {},
   "source": [
    "There is a small improvement for GB tree, but nothing  We see not much difference between linear regression, linear regression with regularization, and gradient boosted trees."
   ]
  },
  {
   "cell_type": "code",
   "execution_count": null,
   "id": "3514af91",
   "metadata": {},
   "outputs": [],
   "source": [
    "# Save results\n",
    "\n",
    "results.to_csv(\"../results/regression/CV_results.csv\")\n",
    "results_poly.to_csv(\"../results/regression/CV_poly_results.csv\")"
   ]
  }
 ],
 "metadata": {
  "kernelspec": {
   "display_name": "grade-prediction",
   "language": "python",
   "name": "python3"
  },
  "language_info": {
   "codemirror_mode": {
    "name": "ipython",
    "version": 3
   },
   "file_extension": ".py",
   "mimetype": "text/x-python",
   "name": "python",
   "nbconvert_exporter": "python",
   "pygments_lexer": "ipython3",
   "version": "3.13.5"
  }
 },
 "nbformat": 4,
 "nbformat_minor": 5
}
