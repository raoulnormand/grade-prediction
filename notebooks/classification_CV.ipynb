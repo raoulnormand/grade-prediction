{
 "cells": [
  {
   "cell_type": "markdown",
   "id": "17ba3806",
   "metadata": {},
   "source": [
    "We perform cross-validation for different models for classification and save the results."
   ]
  },
  {
   "cell_type": "markdown",
   "id": "4cc24c41",
   "metadata": {},
   "source": [
    "# Imports"
   ]
  },
  {
   "cell_type": "code",
   "execution_count": 1,
   "id": "70270184",
   "metadata": {},
   "outputs": [],
   "source": [
    "# Standard imports\n",
    "\n",
    "import pandas as pd\n",
    "import numpy as np"
   ]
  },
  {
   "cell_type": "code",
   "execution_count": 2,
   "id": "d855445a",
   "metadata": {},
   "outputs": [],
   "source": [
    "# Sklearn imports\n",
    "\n",
    "from sklearn.linear_model import LogisticRegression\n",
    "from sklearn.neighbors import KNeighborsClassifier\n",
    "from sklearn.svm import SVC\n",
    "from sklearn.naive_bayes import GaussianNB\n",
    "from sklearn.ensemble import RandomForestClassifier"
   ]
  },
  {
   "cell_type": "markdown",
   "id": "e0825ef6",
   "metadata": {},
   "source": [
    "# Load data"
   ]
  },
  {
   "cell_type": "code",
   "execution_count": 3,
   "id": "113871d8",
   "metadata": {},
   "outputs": [],
   "source": [
    "from src.utils import get_data\n",
    "\n",
    "data = get_data(classification=True)\n",
    "X_train, y_train = data[0], data[2]"
   ]
  },
  {
   "cell_type": "markdown",
   "id": "13a82004",
   "metadata": {},
   "source": [
    "# Define models"
   ]
  },
  {
   "cell_type": "code",
   "execution_count": 4,
   "id": "397e1630",
   "metadata": {},
   "outputs": [],
   "source": [
    "log_reg = (\n",
    "    \"log_reg\",\n",
    "    LogisticRegression(solver=\"liblinear\"),\n",
    "    {\"log_reg__penalty\": [\"l1\", \"l2\"], \"log_reg__C\": np.logspace(-2, 3, 6)},\n",
    ")\n",
    "\n",
    "\n",
    "knn = (\"knn\", KNeighborsClassifier(), {\"knn__n_neighbors\": [1, 3, 5, 10, 20, 50]})\n",
    "\n",
    "svm_lin = (\n",
    "    \"svm_lin\",\n",
    "    SVC(kernel=\"linear\"),\n",
    "    {\n",
    "        \"svm_lin__C\": np.logspace(-3, 3, 7),\n",
    "    },\n",
    ")\n",
    "\n",
    "svm_rbf = (\n",
    "    \"svm_rbf\",\n",
    "    SVC(kernel=\"rbf\"),\n",
    "    {\n",
    "        \"svm_rbf__C\": np.logspace(-3, 3, 7),\n",
    "        \"svm_rbf__gamma\": np.logspace(-4, 2, 7),\n",
    "    },\n",
    ")\n",
    "\n",
    "gaussian_nb = (\"gaussian_nb\", GaussianNB(), {})\n",
    "\n",
    "random_forest = (\n",
    "    \"random_forest\",\n",
    "    RandomForestClassifier(random_state=314),\n",
    "    {\n",
    "        \"random_forest__n_estimators\": [10, 100, 500, 1000],\n",
    "        \"random_forest__max_depth\": [1, 3, 5, 10],\n",
    "    },\n",
    ")\n",
    "\n",
    "\n",
    "models = [log_reg, knn, svm_lin, svm_rbf, gaussian_nb, random_forest]"
   ]
  },
  {
   "cell_type": "markdown",
   "id": "00a5778c",
   "metadata": {},
   "source": [
    "# Apply CV"
   ]
  },
  {
   "cell_type": "code",
   "execution_count": 5,
   "id": "52aa1b20",
   "metadata": {},
   "outputs": [],
   "source": [
    "from src.utils import grid_search_best, l2_score\n",
    "\n",
    "results_dic = {}\n",
    "\n",
    "for model in models:\n",
    "    scores = []\n",
    "    for scoring in [\"accuracy\", \"f1_macro\", l2_score]:\n",
    "        scores.extend(grid_search_best(X_train, y_train, *model, scoring=scoring))\n",
    "    results_dic[model[0]] = scores\n",
    "\n",
    "results = pd.DataFrame(results_dic)"
   ]
  },
  {
   "cell_type": "code",
   "execution_count": 6,
   "id": "944478fa",
   "metadata": {},
   "outputs": [
    {
     "data": {
      "application/vnd.microsoft.datawrangler.viewer.v0+json": {
       "columns": [
        {
         "name": "index",
         "rawType": "int64",
         "type": "integer"
        },
        {
         "name": "log_reg",
         "rawType": "object",
         "type": "unknown"
        },
        {
         "name": "knn",
         "rawType": "object",
         "type": "unknown"
        },
        {
         "name": "svm_lin",
         "rawType": "object",
         "type": "unknown"
        },
        {
         "name": "svm_rbf",
         "rawType": "object",
         "type": "unknown"
        },
        {
         "name": "gaussian_nb",
         "rawType": "object",
         "type": "unknown"
        },
        {
         "name": "random_forest",
         "rawType": "object",
         "type": "unknown"
        }
       ],
       "ref": "6ffd0c0c-543c-4f5e-b01d-9f4e39f87efb",
       "rows": [
        [
         "0",
         "{'log_reg__C': np.float64(1.0), 'log_reg__penalty': 'l2'}",
         "{'knn__n_neighbors': 10}",
         "{'svm_lin__C': np.float64(10.0)}",
         "{'svm_rbf__C': np.float64(1000.0), 'svm_rbf__gamma': np.float64(0.0001)}",
         "{}",
         "{'random_forest__max_depth': 5, 'random_forest__n_estimators': 500}"
        ],
        [
         "1",
         "0.40954545454545455",
         "0.38316804407713495",
         "0.45593663911845733",
         "0.4559504132231405",
         "0.38960055096418733",
         "0.41278236914600547"
        ],
        [
         "2",
         "{'log_reg__C': np.float64(100.0), 'log_reg__penalty': 'l1'}",
         "{'knn__n_neighbors': 10}",
         "{'svm_lin__C': np.float64(10.0)}",
         "{'svm_rbf__C': np.float64(100.0), 'svm_rbf__gamma': np.float64(0.01)}",
         "{}",
         "{'random_forest__max_depth': 5, 'random_forest__n_estimators': 1000}"
        ],
        [
         "3",
         "0.3116733285446952",
         "0.35475143581654867",
         "0.39521908714616755",
         "0.3856425298143649",
         "0.36976958946370314",
         "0.3602108238127842"
        ],
        [
         "4",
         "{'log_reg__C': np.float64(100.0), 'log_reg__penalty': 'l1'}",
         "{'knn__n_neighbors': 10}",
         "{'svm_lin__C': np.float64(10.0)}",
         "{'svm_rbf__C': np.float64(100.0), 'svm_rbf__gamma': np.float64(0.01)}",
         "{}",
         "{'random_forest__max_depth': 5, 'random_forest__n_estimators': 500}"
        ],
        [
         "5",
         "-1.3462759798885675",
         "-1.3638744085502053",
         "-1.2254797792187087",
         "-1.2137959198781132",
         "-1.2964567508783698",
         "-1.3162833453808158"
        ]
       ],
       "shape": {
        "columns": 6,
        "rows": 6
       }
      },
      "text/html": [
       "<div>\n",
       "<style scoped>\n",
       "    .dataframe tbody tr th:only-of-type {\n",
       "        vertical-align: middle;\n",
       "    }\n",
       "\n",
       "    .dataframe tbody tr th {\n",
       "        vertical-align: top;\n",
       "    }\n",
       "\n",
       "    .dataframe thead th {\n",
       "        text-align: right;\n",
       "    }\n",
       "</style>\n",
       "<table border=\"1\" class=\"dataframe\">\n",
       "  <thead>\n",
       "    <tr style=\"text-align: right;\">\n",
       "      <th></th>\n",
       "      <th>log_reg</th>\n",
       "      <th>knn</th>\n",
       "      <th>svm_lin</th>\n",
       "      <th>svm_rbf</th>\n",
       "      <th>gaussian_nb</th>\n",
       "      <th>random_forest</th>\n",
       "    </tr>\n",
       "  </thead>\n",
       "  <tbody>\n",
       "    <tr>\n",
       "      <th>0</th>\n",
       "      <td>{'log_reg__C': 1.0, 'log_reg__penalty': 'l2'}</td>\n",
       "      <td>{'knn__n_neighbors': 10}</td>\n",
       "      <td>{'svm_lin__C': 10.0}</td>\n",
       "      <td>{'svm_rbf__C': 1000.0, 'svm_rbf__gamma': 0.0001}</td>\n",
       "      <td>{}</td>\n",
       "      <td>{'random_forest__max_depth': 5, 'random_forest...</td>\n",
       "    </tr>\n",
       "    <tr>\n",
       "      <th>1</th>\n",
       "      <td>0.409545</td>\n",
       "      <td>0.383168</td>\n",
       "      <td>0.455937</td>\n",
       "      <td>0.45595</td>\n",
       "      <td>0.389601</td>\n",
       "      <td>0.412782</td>\n",
       "    </tr>\n",
       "    <tr>\n",
       "      <th>2</th>\n",
       "      <td>{'log_reg__C': 100.0, 'log_reg__penalty': 'l1'}</td>\n",
       "      <td>{'knn__n_neighbors': 10}</td>\n",
       "      <td>{'svm_lin__C': 10.0}</td>\n",
       "      <td>{'svm_rbf__C': 100.0, 'svm_rbf__gamma': 0.01}</td>\n",
       "      <td>{}</td>\n",
       "      <td>{'random_forest__max_depth': 5, 'random_forest...</td>\n",
       "    </tr>\n",
       "    <tr>\n",
       "      <th>3</th>\n",
       "      <td>0.311673</td>\n",
       "      <td>0.354751</td>\n",
       "      <td>0.395219</td>\n",
       "      <td>0.385643</td>\n",
       "      <td>0.36977</td>\n",
       "      <td>0.360211</td>\n",
       "    </tr>\n",
       "    <tr>\n",
       "      <th>4</th>\n",
       "      <td>{'log_reg__C': 100.0, 'log_reg__penalty': 'l1'}</td>\n",
       "      <td>{'knn__n_neighbors': 10}</td>\n",
       "      <td>{'svm_lin__C': 10.0}</td>\n",
       "      <td>{'svm_rbf__C': 100.0, 'svm_rbf__gamma': 0.01}</td>\n",
       "      <td>{}</td>\n",
       "      <td>{'random_forest__max_depth': 5, 'random_forest...</td>\n",
       "    </tr>\n",
       "    <tr>\n",
       "      <th>5</th>\n",
       "      <td>-1.346276</td>\n",
       "      <td>-1.363874</td>\n",
       "      <td>-1.22548</td>\n",
       "      <td>-1.213796</td>\n",
       "      <td>-1.296457</td>\n",
       "      <td>-1.316283</td>\n",
       "    </tr>\n",
       "  </tbody>\n",
       "</table>\n",
       "</div>"
      ],
      "text/plain": [
       "                                           log_reg                       knn  \\\n",
       "0    {'log_reg__C': 1.0, 'log_reg__penalty': 'l2'}  {'knn__n_neighbors': 10}   \n",
       "1                                         0.409545                  0.383168   \n",
       "2  {'log_reg__C': 100.0, 'log_reg__penalty': 'l1'}  {'knn__n_neighbors': 10}   \n",
       "3                                         0.311673                  0.354751   \n",
       "4  {'log_reg__C': 100.0, 'log_reg__penalty': 'l1'}  {'knn__n_neighbors': 10}   \n",
       "5                                        -1.346276                 -1.363874   \n",
       "\n",
       "                svm_lin                                           svm_rbf  \\\n",
       "0  {'svm_lin__C': 10.0}  {'svm_rbf__C': 1000.0, 'svm_rbf__gamma': 0.0001}   \n",
       "1              0.455937                                           0.45595   \n",
       "2  {'svm_lin__C': 10.0}     {'svm_rbf__C': 100.0, 'svm_rbf__gamma': 0.01}   \n",
       "3              0.395219                                          0.385643   \n",
       "4  {'svm_lin__C': 10.0}     {'svm_rbf__C': 100.0, 'svm_rbf__gamma': 0.01}   \n",
       "5              -1.22548                                         -1.213796   \n",
       "\n",
       "  gaussian_nb                                      random_forest  \n",
       "0          {}  {'random_forest__max_depth': 5, 'random_forest...  \n",
       "1    0.389601                                           0.412782  \n",
       "2          {}  {'random_forest__max_depth': 5, 'random_forest...  \n",
       "3     0.36977                                           0.360211  \n",
       "4          {}  {'random_forest__max_depth': 5, 'random_forest...  \n",
       "5   -1.296457                                          -1.316283  "
      ]
     },
     "execution_count": 6,
     "metadata": {},
     "output_type": "execute_result"
    }
   ],
   "source": [
    "results"
   ]
  },
  {
   "cell_type": "markdown",
   "id": "3b767a72",
   "metadata": {},
   "source": [
    "We see that the SVM performs best. Considering the very small differences between kenels, it makes sense to use the linear kernel with C = 10.\n",
    "\n",
    "Let us the log reg and SVM models try with polynomial features."
   ]
  },
  {
   "cell_type": "code",
   "execution_count": 7,
   "id": "f57487e6",
   "metadata": {},
   "outputs": [],
   "source": [
    "models_poly = [log_reg, svm_lin, svm_rbf]\n",
    "results_dic_poly = {}\n",
    "\n",
    "for model in models_poly:\n",
    "    scores = []\n",
    "    for scoring in [\"accuracy\", \"f1_macro\", l2_score]:\n",
    "        scores.extend(grid_search_best(X_train, y_train, *model, scoring=scoring, polyfeat=True))\n",
    "    results_dic_poly[model[0]] = scores\n",
    "\n",
    "results_poly = pd.DataFrame(results_dic_poly)"
   ]
  },
  {
   "cell_type": "code",
   "execution_count": 8,
   "id": "2b43e0ad",
   "metadata": {},
   "outputs": [
    {
     "data": {
      "application/vnd.microsoft.datawrangler.viewer.v0+json": {
       "columns": [
        {
         "name": "index",
         "rawType": "int64",
         "type": "integer"
        },
        {
         "name": "log_reg",
         "rawType": "object",
         "type": "unknown"
        },
        {
         "name": "svm_lin",
         "rawType": "object",
         "type": "unknown"
        },
        {
         "name": "svm_rbf",
         "rawType": "object",
         "type": "unknown"
        }
       ],
       "ref": "b76cb527-2716-4ea9-8393-e2da3f8bb672",
       "rows": [
        [
         "0",
         "{'log_reg__C': np.float64(1.0), 'log_reg__penalty': 'l1', 'poly_feat__degree': 2}",
         "{'poly_feat__degree': 1, 'svm_lin__C': np.float64(10.0)}",
         "{'poly_feat__degree': 1, 'svm_rbf__C': np.float64(1000.0), 'svm_rbf__gamma': np.float64(0.0001)}"
        ],
        [
         "1",
         "0.43271349862258945",
         "0.45593663911845733",
         "0.4559504132231405"
        ],
        [
         "2",
         "{'log_reg__C': np.float64(10.0), 'log_reg__penalty': 'l1', 'poly_feat__degree': 2}",
         "{'poly_feat__degree': 1, 'svm_lin__C': np.float64(10.0)}",
         "{'poly_feat__degree': 1, 'svm_rbf__C': np.float64(100.0), 'svm_rbf__gamma': np.float64(0.01)}"
        ],
        [
         "3",
         "0.3931751858084347",
         "0.39521908714616755",
         "0.3856425298143649"
        ],
        [
         "4",
         "{'log_reg__C': np.float64(1.0), 'log_reg__penalty': 'l1', 'poly_feat__degree': 2}",
         "{'poly_feat__degree': 2, 'svm_lin__C': np.float64(1.0)}",
         "{'poly_feat__degree': 1, 'svm_rbf__C': np.float64(100.0), 'svm_rbf__gamma': np.float64(0.01)}"
        ],
        [
         "5",
         "-1.2354981802415304",
         "-1.2155898862894505",
         "-1.2137959198781132"
        ]
       ],
       "shape": {
        "columns": 3,
        "rows": 6
       }
      },
      "text/html": [
       "<div>\n",
       "<style scoped>\n",
       "    .dataframe tbody tr th:only-of-type {\n",
       "        vertical-align: middle;\n",
       "    }\n",
       "\n",
       "    .dataframe tbody tr th {\n",
       "        vertical-align: top;\n",
       "    }\n",
       "\n",
       "    .dataframe thead th {\n",
       "        text-align: right;\n",
       "    }\n",
       "</style>\n",
       "<table border=\"1\" class=\"dataframe\">\n",
       "  <thead>\n",
       "    <tr style=\"text-align: right;\">\n",
       "      <th></th>\n",
       "      <th>log_reg</th>\n",
       "      <th>svm_lin</th>\n",
       "      <th>svm_rbf</th>\n",
       "    </tr>\n",
       "  </thead>\n",
       "  <tbody>\n",
       "    <tr>\n",
       "      <th>0</th>\n",
       "      <td>{'log_reg__C': 1.0, 'log_reg__penalty': 'l1', ...</td>\n",
       "      <td>{'poly_feat__degree': 1, 'svm_lin__C': 10.0}</td>\n",
       "      <td>{'poly_feat__degree': 1, 'svm_rbf__C': 1000.0,...</td>\n",
       "    </tr>\n",
       "    <tr>\n",
       "      <th>1</th>\n",
       "      <td>0.432713</td>\n",
       "      <td>0.455937</td>\n",
       "      <td>0.45595</td>\n",
       "    </tr>\n",
       "    <tr>\n",
       "      <th>2</th>\n",
       "      <td>{'log_reg__C': 10.0, 'log_reg__penalty': 'l1',...</td>\n",
       "      <td>{'poly_feat__degree': 1, 'svm_lin__C': 10.0}</td>\n",
       "      <td>{'poly_feat__degree': 1, 'svm_rbf__C': 100.0, ...</td>\n",
       "    </tr>\n",
       "    <tr>\n",
       "      <th>3</th>\n",
       "      <td>0.393175</td>\n",
       "      <td>0.395219</td>\n",
       "      <td>0.385643</td>\n",
       "    </tr>\n",
       "    <tr>\n",
       "      <th>4</th>\n",
       "      <td>{'log_reg__C': 1.0, 'log_reg__penalty': 'l1', ...</td>\n",
       "      <td>{'poly_feat__degree': 2, 'svm_lin__C': 1.0}</td>\n",
       "      <td>{'poly_feat__degree': 1, 'svm_rbf__C': 100.0, ...</td>\n",
       "    </tr>\n",
       "    <tr>\n",
       "      <th>5</th>\n",
       "      <td>-1.235498</td>\n",
       "      <td>-1.21559</td>\n",
       "      <td>-1.213796</td>\n",
       "    </tr>\n",
       "  </tbody>\n",
       "</table>\n",
       "</div>"
      ],
      "text/plain": [
       "                                             log_reg  \\\n",
       "0  {'log_reg__C': 1.0, 'log_reg__penalty': 'l1', ...   \n",
       "1                                           0.432713   \n",
       "2  {'log_reg__C': 10.0, 'log_reg__penalty': 'l1',...   \n",
       "3                                           0.393175   \n",
       "4  {'log_reg__C': 1.0, 'log_reg__penalty': 'l1', ...   \n",
       "5                                          -1.235498   \n",
       "\n",
       "                                        svm_lin  \\\n",
       "0  {'poly_feat__degree': 1, 'svm_lin__C': 10.0}   \n",
       "1                                      0.455937   \n",
       "2  {'poly_feat__degree': 1, 'svm_lin__C': 10.0}   \n",
       "3                                      0.395219   \n",
       "4   {'poly_feat__degree': 2, 'svm_lin__C': 1.0}   \n",
       "5                                      -1.21559   \n",
       "\n",
       "                                             svm_rbf  \n",
       "0  {'poly_feat__degree': 1, 'svm_rbf__C': 1000.0,...  \n",
       "1                                            0.45595  \n",
       "2  {'poly_feat__degree': 1, 'svm_rbf__C': 100.0, ...  \n",
       "3                                           0.385643  \n",
       "4  {'poly_feat__degree': 1, 'svm_rbf__C': 100.0, ...  \n",
       "5                                          -1.213796  "
      ]
     },
     "execution_count": 8,
     "metadata": {},
     "output_type": "execute_result"
    }
   ],
   "source": [
    "results_poly"
   ]
  },
  {
   "cell_type": "markdown",
   "id": "b66abdf1",
   "metadata": {},
   "source": [
    "We only see an improvement for logistic regression, and it is still not as good as SVM, so we stick to linear SVM with C = 10."
   ]
  },
  {
   "cell_type": "code",
   "execution_count": 9,
   "id": "501f775b",
   "metadata": {},
   "outputs": [],
   "source": [
    "# Save results\n",
    "\n",
    "results.to_csv(\"../results/classification/CV_results.csv\")\n",
    "results_poly.to_csv(\"../results/classification/CV_poly_results.csv\")"
   ]
  }
 ],
 "metadata": {
  "kernelspec": {
   "display_name": "grade-prediction",
   "language": "python",
   "name": "python3"
  },
  "language_info": {
   "codemirror_mode": {
    "name": "ipython",
    "version": 3
   },
   "file_extension": ".py",
   "mimetype": "text/x-python",
   "name": "python",
   "nbconvert_exporter": "python",
   "pygments_lexer": "ipython3",
   "version": "3.13.5"
  }
 },
 "nbformat": 4,
 "nbformat_minor": 5
}
