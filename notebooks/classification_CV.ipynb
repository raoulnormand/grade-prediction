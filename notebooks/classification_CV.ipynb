{
 "cells": [
  {
   "cell_type": "markdown",
   "id": "17ba3806",
   "metadata": {},
   "source": [
    "We perform cross-validation for different models for classification and save the results."
   ]
  },
  {
   "cell_type": "markdown",
   "id": "4cc24c41",
   "metadata": {},
   "source": [
    "# Imports"
   ]
  },
  {
   "cell_type": "code",
   "execution_count": 1,
   "id": "70270184",
   "metadata": {},
   "outputs": [],
   "source": [
    "# Standard imports\n",
    "\n",
    "import pandas as pd\n",
    "import numpy as np"
   ]
  },
  {
   "cell_type": "code",
   "execution_count": 2,
   "id": "d855445a",
   "metadata": {},
   "outputs": [],
   "source": [
    "# Sklearn imports\n",
    "\n",
    "from sklearn.linear_model import LogisticRegression\n",
    "from sklearn.neighbors import KNeighborsClassifier\n",
    "from sklearn.svm import SVC\n",
    "from sklearn.naive_bayes import GaussianNB\n",
    "from sklearn.ensemble import RandomForestClassifier"
   ]
  },
  {
   "cell_type": "markdown",
   "id": "e0825ef6",
   "metadata": {},
   "source": [
    "# Load data"
   ]
  },
  {
   "cell_type": "code",
   "execution_count": null,
   "id": "113871d8",
   "metadata": {},
   "outputs": [],
   "source": [
    "from src.utils import get_data\n",
    "\n",
    "data = get_data(classification=True)\n",
    "X_train, y_train = data[0], data[2]"
   ]
  },
  {
   "cell_type": "markdown",
   "id": "13a82004",
   "metadata": {},
   "source": [
    "# Define models"
   ]
  },
  {
   "cell_type": "code",
   "execution_count": null,
   "id": "397e1630",
   "metadata": {},
   "outputs": [],
   "source": [
    "log_reg = (\n",
    "    \"log_reg\",\n",
    "    LogisticRegression(solver=\"liblinear\"),\n",
    "    {\"log_reg__penalty\": [\"l1\", \"l2\"], \"log_reg__C\": np.logspace(-2, 3, 6)},\n",
    ")\n",
    "\n",
    "\n",
    "knn = (\"knn\", KNeighborsClassifier(), {\"knn__n_neighbors\": [1, 3, 5, 10, 20, 50]})\n",
    "\n",
    "svm_lin = (\n",
    "    \"svm_lin\",\n",
    "    SVC(kernel=\"linear\"),\n",
    "    {\n",
    "        \"svm_lin__C\": np.logspace(-3, 3, 7),\n",
    "    },\n",
    ")\n",
    "\n",
    "svm_rbf = (\n",
    "    \"svm_rbf\",\n",
    "    SVC(kernel=\"rbf\"),\n",
    "    {\n",
    "        \"svm_rbf__C\": np.logspace(-3, 3, 7),\n",
    "        \"svm_rbf__gamma\": np.logspace(-4, 2, 7),\n",
    "    },\n",
    ")\n",
    "\n",
    "gaussian_nb = (\"gaussian_nb\", GaussianNB(), {})\n",
    "\n",
    "random_forest = (\n",
    "    \"random_forest\",\n",
    "    RandomForestClassifier(random_state=314),\n",
    "    {\n",
    "        \"random_forest__n_estimators\": [10, 100, 500, 1000],\n",
    "        \"random_forest__max_depth\": [1, 3, 5, 10],\n",
    "    },\n",
    ")\n",
    "\n",
    "\n",
    "models = [log_reg, knn, svm_lin, svm_rbf, gaussian_nb, random_forest]"
   ]
  },
  {
   "cell_type": "markdown",
   "id": "00a5778c",
   "metadata": {},
   "source": [
    "# Apply CV"
   ]
  },
  {
   "cell_type": "code",
   "execution_count": null,
   "id": "52aa1b20",
   "metadata": {},
   "outputs": [],
   "source": [
    "from src.utils import grid_search_best, l2_score\n",
    "\n",
    "results_dic = {}\n",
    "\n",
    "for model in models:\n",
    "    scores = []\n",
    "    for scoring in [\"accuracy\", \"f1_macro\", l2_score]:\n",
    "        scores.extend(grid_search_best(X_train, y_train, *model, scoring=scoring))\n",
    "    results_dic[model[0]] = scores\n",
    "\n",
    "results = pd.DataFrame(results_dic)"
   ]
  },
  {
   "cell_type": "code",
   "execution_count": 33,
   "id": "944478fa",
   "metadata": {},
   "outputs": [
    {
     "data": {
      "application/vnd.microsoft.datawrangler.viewer.v0+json": {
       "columns": [
        {
         "name": "index",
         "rawType": "int64",
         "type": "integer"
        },
        {
         "name": "log_reg",
         "rawType": "object",
         "type": "unknown"
        },
        {
         "name": "knn",
         "rawType": "object",
         "type": "unknown"
        },
        {
         "name": "svm_lin",
         "rawType": "object",
         "type": "unknown"
        },
        {
         "name": "svm_rbf",
         "rawType": "object",
         "type": "unknown"
        },
        {
         "name": "gaussian_nb",
         "rawType": "object",
         "type": "unknown"
        },
        {
         "name": "random_forest",
         "rawType": "object",
         "type": "unknown"
        }
       ],
       "ref": "66f9fb52-002d-4204-8d85-5f48d541954b",
       "rows": [
        [
         "0",
         "{'log_reg__C': np.float64(1.0), 'log_reg__penalty': 'l2'}",
         "{'knn__n_neighbors': 10}",
         "{'svm_lin__C': np.float64(10.0)}",
         "{'svm_rbf__C': np.float64(1000.0), 'svm_rbf__gamma': np.float64(0.0001)}",
         "{}",
         "{'random_forest__max_depth': 5, 'random_forest__n_estimators': 500}"
        ],
        [
         "1",
         "0.40954545454545455",
         "0.38316804407713495",
         "0.45593663911845733",
         "0.4559504132231405",
         "0.38960055096418733",
         "0.41278236914600547"
        ],
        [
         "2",
         "{'log_reg__C': np.float64(100.0), 'log_reg__penalty': 'l1'}",
         "{'knn__n_neighbors': 10}",
         "{'svm_lin__C': np.float64(10.0)}",
         "{'svm_rbf__C': np.float64(100.0), 'svm_rbf__gamma': np.float64(0.01)}",
         "{}",
         "{'random_forest__max_depth': 5, 'random_forest__n_estimators': 1000}"
        ],
        [
         "3",
         "0.3116733285446952",
         "0.35475143581654867",
         "0.39521908714616755",
         "0.3856425298143649",
         "0.36976958946370314",
         "0.3602108238127842"
        ],
        [
         "4",
         "{'log_reg__C': np.float64(100.0), 'log_reg__penalty': 'l1'}",
         "{'knn__n_neighbors': 10}",
         "{'svm_lin__C': np.float64(10.0)}",
         "{'svm_rbf__C': np.float64(100.0), 'svm_rbf__gamma': np.float64(0.01)}",
         "{}",
         "{'random_forest__max_depth': 5, 'random_forest__n_estimators': 500}"
        ],
        [
         "5",
         "-0.12260243721927214",
         "-0.12420141092400298",
         "-0.11159934226333035",
         "-0.11053644346769506",
         "-0.11805751970571601",
         "-0.11987648082344227"
        ]
       ],
       "shape": {
        "columns": 6,
        "rows": 6
       }
      },
      "text/html": [
       "<div>\n",
       "<style scoped>\n",
       "    .dataframe tbody tr th:only-of-type {\n",
       "        vertical-align: middle;\n",
       "    }\n",
       "\n",
       "    .dataframe tbody tr th {\n",
       "        vertical-align: top;\n",
       "    }\n",
       "\n",
       "    .dataframe thead th {\n",
       "        text-align: right;\n",
       "    }\n",
       "</style>\n",
       "<table border=\"1\" class=\"dataframe\">\n",
       "  <thead>\n",
       "    <tr style=\"text-align: right;\">\n",
       "      <th></th>\n",
       "      <th>log_reg</th>\n",
       "      <th>knn</th>\n",
       "      <th>svm_lin</th>\n",
       "      <th>svm_rbf</th>\n",
       "      <th>gaussian_nb</th>\n",
       "      <th>random_forest</th>\n",
       "    </tr>\n",
       "  </thead>\n",
       "  <tbody>\n",
       "    <tr>\n",
       "      <th>0</th>\n",
       "      <td>{'log_reg__C': 1.0, 'log_reg__penalty': 'l2'}</td>\n",
       "      <td>{'knn__n_neighbors': 10}</td>\n",
       "      <td>{'svm_lin__C': 10.0}</td>\n",
       "      <td>{'svm_rbf__C': 1000.0, 'svm_rbf__gamma': 0.0001}</td>\n",
       "      <td>{}</td>\n",
       "      <td>{'random_forest__max_depth': 5, 'random_forest...</td>\n",
       "    </tr>\n",
       "    <tr>\n",
       "      <th>1</th>\n",
       "      <td>0.409545</td>\n",
       "      <td>0.383168</td>\n",
       "      <td>0.455937</td>\n",
       "      <td>0.45595</td>\n",
       "      <td>0.389601</td>\n",
       "      <td>0.412782</td>\n",
       "    </tr>\n",
       "    <tr>\n",
       "      <th>2</th>\n",
       "      <td>{'log_reg__C': 100.0, 'log_reg__penalty': 'l1'}</td>\n",
       "      <td>{'knn__n_neighbors': 10}</td>\n",
       "      <td>{'svm_lin__C': 10.0}</td>\n",
       "      <td>{'svm_rbf__C': 100.0, 'svm_rbf__gamma': 0.01}</td>\n",
       "      <td>{}</td>\n",
       "      <td>{'random_forest__max_depth': 5, 'random_forest...</td>\n",
       "    </tr>\n",
       "    <tr>\n",
       "      <th>3</th>\n",
       "      <td>0.311673</td>\n",
       "      <td>0.354751</td>\n",
       "      <td>0.395219</td>\n",
       "      <td>0.385643</td>\n",
       "      <td>0.36977</td>\n",
       "      <td>0.360211</td>\n",
       "    </tr>\n",
       "    <tr>\n",
       "      <th>4</th>\n",
       "      <td>{'log_reg__C': 100.0, 'log_reg__penalty': 'l1'}</td>\n",
       "      <td>{'knn__n_neighbors': 10}</td>\n",
       "      <td>{'svm_lin__C': 10.0}</td>\n",
       "      <td>{'svm_rbf__C': 100.0, 'svm_rbf__gamma': 0.01}</td>\n",
       "      <td>{}</td>\n",
       "      <td>{'random_forest__max_depth': 5, 'random_forest...</td>\n",
       "    </tr>\n",
       "    <tr>\n",
       "      <th>5</th>\n",
       "      <td>-0.122602</td>\n",
       "      <td>-0.124201</td>\n",
       "      <td>-0.111599</td>\n",
       "      <td>-0.110536</td>\n",
       "      <td>-0.118058</td>\n",
       "      <td>-0.119876</td>\n",
       "    </tr>\n",
       "  </tbody>\n",
       "</table>\n",
       "</div>"
      ],
      "text/plain": [
       "                                           log_reg                       knn  \\\n",
       "0    {'log_reg__C': 1.0, 'log_reg__penalty': 'l2'}  {'knn__n_neighbors': 10}   \n",
       "1                                         0.409545                  0.383168   \n",
       "2  {'log_reg__C': 100.0, 'log_reg__penalty': 'l1'}  {'knn__n_neighbors': 10}   \n",
       "3                                         0.311673                  0.354751   \n",
       "4  {'log_reg__C': 100.0, 'log_reg__penalty': 'l1'}  {'knn__n_neighbors': 10}   \n",
       "5                                        -0.122602                 -0.124201   \n",
       "\n",
       "                svm_lin                                           svm_rbf  \\\n",
       "0  {'svm_lin__C': 10.0}  {'svm_rbf__C': 1000.0, 'svm_rbf__gamma': 0.0001}   \n",
       "1              0.455937                                           0.45595   \n",
       "2  {'svm_lin__C': 10.0}     {'svm_rbf__C': 100.0, 'svm_rbf__gamma': 0.01}   \n",
       "3              0.395219                                          0.385643   \n",
       "4  {'svm_lin__C': 10.0}     {'svm_rbf__C': 100.0, 'svm_rbf__gamma': 0.01}   \n",
       "5             -0.111599                                         -0.110536   \n",
       "\n",
       "  gaussian_nb                                      random_forest  \n",
       "0          {}  {'random_forest__max_depth': 5, 'random_forest...  \n",
       "1    0.389601                                           0.412782  \n",
       "2          {}  {'random_forest__max_depth': 5, 'random_forest...  \n",
       "3     0.36977                                           0.360211  \n",
       "4          {}  {'random_forest__max_depth': 5, 'random_forest...  \n",
       "5   -0.118058                                          -0.119876  "
      ]
     },
     "execution_count": 33,
     "metadata": {},
     "output_type": "execute_result"
    }
   ],
   "source": [
    "results"
   ]
  },
  {
   "cell_type": "markdown",
   "id": "3b767a72",
   "metadata": {},
   "source": [
    "We see that the SVM performs best. Considering the very small differences between kenels, it makes sense to use the linear kernel with C = 10.\n",
    "\n",
    "Let us the log reg and SVM models try with polynomial features."
   ]
  },
  {
   "cell_type": "code",
   "execution_count": 36,
   "id": "f57487e6",
   "metadata": {},
   "outputs": [],
   "source": [
    "models_poly = [log_reg, svm_lin, svm_rbf]\n",
    "results_dic_poly = {}\n",
    "\n",
    "for model in models_poly:\n",
    "    scores = []\n",
    "    for scoring in [\"accuracy\", \"f1_macro\", l2_score]:\n",
    "        scores.extend(grid_search_best(X_train, y_train, *model, scoring=scoring, polyfeat=True))\n",
    "    results_dic_poly[model[0]] = scores\n",
    "\n",
    "results_poly = pd.DataFrame(results_dic_poly)"
   ]
  },
  {
   "cell_type": "code",
   "execution_count": 37,
   "id": "2b43e0ad",
   "metadata": {},
   "outputs": [
    {
     "data": {
      "application/vnd.microsoft.datawrangler.viewer.v0+json": {
       "columns": [
        {
         "name": "index",
         "rawType": "int64",
         "type": "integer"
        },
        {
         "name": "log_reg",
         "rawType": "object",
         "type": "unknown"
        },
        {
         "name": "svm_lin",
         "rawType": "object",
         "type": "unknown"
        },
        {
         "name": "svm_rbf",
         "rawType": "object",
         "type": "unknown"
        }
       ],
       "ref": "10f0fd9f-6e04-40de-b63c-2ec829acd3a5",
       "rows": [
        [
         "0",
         "{'log_reg__C': np.float64(1.0), 'log_reg__penalty': 'l1', 'poly_feat__degree': 2}",
         "{'poly_feat__degree': 1, 'svm_lin__C': np.float64(10.0)}",
         "{'poly_feat__degree': 1, 'svm_rbf__C': np.float64(1000.0), 'svm_rbf__gamma': np.float64(0.0001)}"
        ],
        [
         "1",
         "0.43271349862258945",
         "0.45593663911845733",
         "0.4559504132231405"
        ],
        [
         "2",
         "{'log_reg__C': np.float64(10.0), 'log_reg__penalty': 'l1', 'poly_feat__degree': 2}",
         "{'poly_feat__degree': 1, 'svm_lin__C': np.float64(10.0)}",
         "{'poly_feat__degree': 1, 'svm_rbf__C': np.float64(100.0), 'svm_rbf__gamma': np.float64(0.01)}"
        ],
        [
         "3",
         "0.3931751858084347",
         "0.39521908714616755",
         "0.3856425298143649"
        ],
        [
         "4",
         "{'log_reg__C': np.float64(1.0), 'log_reg__penalty': 'l1', 'poly_feat__degree': 3}",
         "{'poly_feat__degree': 2, 'svm_lin__C': np.float64(1.0)}",
         "{'poly_feat__degree': 1, 'svm_rbf__C': np.float64(100.0), 'svm_rbf__gamma': np.float64(0.01)}"
        ],
        [
         "5",
         "-0.11222891058302827",
         "-0.11070239102539674",
         "-0.11053644346769506"
        ]
       ],
       "shape": {
        "columns": 3,
        "rows": 6
       }
      },
      "text/html": [
       "<div>\n",
       "<style scoped>\n",
       "    .dataframe tbody tr th:only-of-type {\n",
       "        vertical-align: middle;\n",
       "    }\n",
       "\n",
       "    .dataframe tbody tr th {\n",
       "        vertical-align: top;\n",
       "    }\n",
       "\n",
       "    .dataframe thead th {\n",
       "        text-align: right;\n",
       "    }\n",
       "</style>\n",
       "<table border=\"1\" class=\"dataframe\">\n",
       "  <thead>\n",
       "    <tr style=\"text-align: right;\">\n",
       "      <th></th>\n",
       "      <th>log_reg</th>\n",
       "      <th>svm_lin</th>\n",
       "      <th>svm_rbf</th>\n",
       "    </tr>\n",
       "  </thead>\n",
       "  <tbody>\n",
       "    <tr>\n",
       "      <th>0</th>\n",
       "      <td>{'log_reg__C': 1.0, 'log_reg__penalty': 'l1', ...</td>\n",
       "      <td>{'poly_feat__degree': 1, 'svm_lin__C': 10.0}</td>\n",
       "      <td>{'poly_feat__degree': 1, 'svm_rbf__C': 1000.0,...</td>\n",
       "    </tr>\n",
       "    <tr>\n",
       "      <th>1</th>\n",
       "      <td>0.432713</td>\n",
       "      <td>0.455937</td>\n",
       "      <td>0.45595</td>\n",
       "    </tr>\n",
       "    <tr>\n",
       "      <th>2</th>\n",
       "      <td>{'log_reg__C': 10.0, 'log_reg__penalty': 'l1',...</td>\n",
       "      <td>{'poly_feat__degree': 1, 'svm_lin__C': 10.0}</td>\n",
       "      <td>{'poly_feat__degree': 1, 'svm_rbf__C': 100.0, ...</td>\n",
       "    </tr>\n",
       "    <tr>\n",
       "      <th>3</th>\n",
       "      <td>0.393175</td>\n",
       "      <td>0.395219</td>\n",
       "      <td>0.385643</td>\n",
       "    </tr>\n",
       "    <tr>\n",
       "      <th>4</th>\n",
       "      <td>{'log_reg__C': 1.0, 'log_reg__penalty': 'l1', ...</td>\n",
       "      <td>{'poly_feat__degree': 2, 'svm_lin__C': 1.0}</td>\n",
       "      <td>{'poly_feat__degree': 1, 'svm_rbf__C': 100.0, ...</td>\n",
       "    </tr>\n",
       "    <tr>\n",
       "      <th>5</th>\n",
       "      <td>-0.112229</td>\n",
       "      <td>-0.110702</td>\n",
       "      <td>-0.110536</td>\n",
       "    </tr>\n",
       "  </tbody>\n",
       "</table>\n",
       "</div>"
      ],
      "text/plain": [
       "                                             log_reg  \\\n",
       "0  {'log_reg__C': 1.0, 'log_reg__penalty': 'l1', ...   \n",
       "1                                           0.432713   \n",
       "2  {'log_reg__C': 10.0, 'log_reg__penalty': 'l1',...   \n",
       "3                                           0.393175   \n",
       "4  {'log_reg__C': 1.0, 'log_reg__penalty': 'l1', ...   \n",
       "5                                          -0.112229   \n",
       "\n",
       "                                        svm_lin  \\\n",
       "0  {'poly_feat__degree': 1, 'svm_lin__C': 10.0}   \n",
       "1                                      0.455937   \n",
       "2  {'poly_feat__degree': 1, 'svm_lin__C': 10.0}   \n",
       "3                                      0.395219   \n",
       "4   {'poly_feat__degree': 2, 'svm_lin__C': 1.0}   \n",
       "5                                     -0.110702   \n",
       "\n",
       "                                             svm_rbf  \n",
       "0  {'poly_feat__degree': 1, 'svm_rbf__C': 1000.0,...  \n",
       "1                                            0.45595  \n",
       "2  {'poly_feat__degree': 1, 'svm_rbf__C': 100.0, ...  \n",
       "3                                           0.385643  \n",
       "4  {'poly_feat__degree': 1, 'svm_rbf__C': 100.0, ...  \n",
       "5                                          -0.110536  "
      ]
     },
     "execution_count": 37,
     "metadata": {},
     "output_type": "execute_result"
    }
   ],
   "source": [
    "results_poly"
   ]
  },
  {
   "cell_type": "markdown",
   "id": "b66abdf1",
   "metadata": {},
   "source": [
    "We only see an improvement for logistic regression, and it is still not as good as SVM, so we stick to linear SVM with C = 10."
   ]
  },
  {
   "cell_type": "code",
   "execution_count": 41,
   "id": "501f775b",
   "metadata": {},
   "outputs": [],
   "source": [
    "# Save results\n",
    "\n",
    "results.to_csv(\"../results/classification/CV_results.csv\")\n",
    "results_poly.to_csv(\"../results/classification/CV_poly_results.csv\")"
   ]
  },
  {
   "cell_type": "markdown",
   "id": "4d176ad1",
   "metadata": {},
   "source": [
    "# Prediction"
   ]
  },
  {
   "cell_type": "code",
   "execution_count": null,
   "id": "d9c0b6bb",
   "metadata": {},
   "outputs": [],
   "source": [
    "from sklearn.svm import SVC\n",
    "\n",
    "model1 = SVC(kernel=\"linear\", C=10, probability=True).fit(X_trainval, y_trainval)"
   ]
  },
  {
   "cell_type": "code",
   "execution_count": 97,
   "id": "9e9b3ca6",
   "metadata": {},
   "outputs": [],
   "source": [
    "X_pred = [\n",
    "    [18, 19, 5, 96],\n",
    "    [5, 12, 2, 50],\n",
    "    [12, 15, 5, 70],\n",
    "    [18, 20, 5, 50],\n",
    "    [7, 2, 1, 85],\n",
    "    [18, 0, 0, 80],\n",
    "    [10, 18, 5, 60],\n",
    "]"
   ]
  },
  {
   "cell_type": "code",
   "execution_count": 107,
   "id": "8b94c204",
   "metadata": {},
   "outputs": [
    {
     "name": "stderr",
     "output_type": "stream",
     "text": [
      "c:\\Users\\raoul\\anaconda3\\envs\\grade-prediction\\Lib\\site-packages\\sklearn\\utils\\validation.py:2739: UserWarning: X does not have valid feature names, but SVC was fitted with feature names\n",
      "  warnings.warn(\n"
     ]
    }
   ],
   "source": [
    "pred1 = model1.predict_proba(X_pred)"
   ]
  },
  {
   "cell_type": "code",
   "execution_count": null,
   "id": "5f0bfcb5",
   "metadata": {},
   "outputs": [],
   "source": [
    "from sklearn.calibration import CalibratedClassifierCV\n",
    "\n",
    "model2 = CalibratedClassifierCV(\n",
    "    LogisticRegression(C=100, max_iter=10000, solver=\"liblinear\").fit(\n",
    "        X_trainval, y_trainval\n",
    "    )\n",
    ").fit(X_trainval, y_trainval)\n",
    "\n",
    "# Must double check this and do cv and calibrate on different set."
   ]
  },
  {
   "cell_type": "code",
   "execution_count": 119,
   "id": "12d365f5",
   "metadata": {},
   "outputs": [
    {
     "name": "stderr",
     "output_type": "stream",
     "text": [
      "c:\\Users\\raoul\\anaconda3\\envs\\grade-prediction\\Lib\\site-packages\\sklearn\\utils\\validation.py:2739: UserWarning: X does not have valid feature names, but LogisticRegression was fitted with feature names\n",
      "  warnings.warn(\n",
      "c:\\Users\\raoul\\anaconda3\\envs\\grade-prediction\\Lib\\site-packages\\sklearn\\utils\\validation.py:2739: UserWarning: X does not have valid feature names, but LogisticRegression was fitted with feature names\n",
      "  warnings.warn(\n",
      "c:\\Users\\raoul\\anaconda3\\envs\\grade-prediction\\Lib\\site-packages\\sklearn\\utils\\validation.py:2739: UserWarning: X does not have valid feature names, but LogisticRegression was fitted with feature names\n",
      "  warnings.warn(\n",
      "c:\\Users\\raoul\\anaconda3\\envs\\grade-prediction\\Lib\\site-packages\\sklearn\\utils\\validation.py:2739: UserWarning: X does not have valid feature names, but LogisticRegression was fitted with feature names\n",
      "  warnings.warn(\n",
      "c:\\Users\\raoul\\anaconda3\\envs\\grade-prediction\\Lib\\site-packages\\sklearn\\utils\\validation.py:2739: UserWarning: X does not have valid feature names, but LogisticRegression was fitted with feature names\n",
      "  warnings.warn(\n"
     ]
    }
   ],
   "source": [
    "pred2 = model2.predict_proba(X_pred)"
   ]
  },
  {
   "cell_type": "code",
   "execution_count": 120,
   "id": "47b6817c",
   "metadata": {},
   "outputs": [
    {
     "data": {
      "text/plain": [
       "([<matplotlib.patches.Wedge at 0x1d0053ddd10>,\n",
       "  <matplotlib.patches.Wedge at 0x1d0053ddf90>,\n",
       "  <matplotlib.patches.Wedge at 0x1d0053de210>,\n",
       "  <matplotlib.patches.Wedge at 0x1d0053de490>,\n",
       "  <matplotlib.patches.Wedge at 0x1d0053de710>,\n",
       "  <matplotlib.patches.Wedge at 0x1d0053de990>,\n",
       "  <matplotlib.patches.Wedge at 0x1d0053dec10>,\n",
       "  <matplotlib.patches.Wedge at 0x1d0053dee90>,\n",
       "  <matplotlib.patches.Wedge at 0x1d0053df110>],\n",
       " [Text(0.4176004630803676, 1.0176491798429668, 'A'),\n",
       "  Text(-1.0813901134999002, 0.20148305741345407, 'A-'),\n",
       "  Text(-0.7328224717306365, -0.8203482339388564, 'B'),\n",
       "  Text(0.07349197211401581, -1.0975422224382956, 'B+'),\n",
       "  Text(0.6102405613859205, -0.9152084228411563, 'B-'),\n",
       "  Text(0.8614998872287151, -0.6839721809437218, 'C'),\n",
       "  Text(1.042355953023143, -0.35141722666542036, 'C+'),\n",
       "  Text(1.0973290173745838, -0.07660957921650918, 'D'),\n",
       "  Text(1.0999966241772434, -0.002725215343474844, 'F')])"
      ]
     },
     "execution_count": 120,
     "metadata": {},
     "output_type": "execute_result"
    },
    {
     "data": {
      "image/png": "[encoded data removed]",
      "text/plain": [
       "<Figure size 640x480 with 2 Axes>"
      ]
     },
     "metadata": {},
     "output_type": "display_data"
    }
   ],
   "source": [
    "import matplotlib.pyplot as plt\n",
    "\n",
    "fig, ax = plt.subplots(1, 2)\n",
    "ax[0].pie(pred1[0], labels=model1.classes_)\n",
    "ax[1].pie(pred2[0], labels=model2.classes_)"
   ]
  },
  {
   "cell_type": "code",
   "execution_count": 122,
   "id": "32cf259c",
   "metadata": {},
   "outputs": [
    {
     "data": {
      "text/plain": [
       "([<matplotlib.patches.Wedge at 0x1d005558050>,\n",
       "  <matplotlib.patches.Wedge at 0x1d0055582d0>,\n",
       "  <matplotlib.patches.Wedge at 0x1d005558550>,\n",
       "  <matplotlib.patches.Wedge at 0x1d0055587d0>,\n",
       "  <matplotlib.patches.Wedge at 0x1d005558a50>,\n",
       "  <matplotlib.patches.Wedge at 0x1d005558cd0>,\n",
       "  <matplotlib.patches.Wedge at 0x1d005558f50>,\n",
       "  <matplotlib.patches.Wedge at 0x1d0055591d0>,\n",
       "  <matplotlib.patches.Wedge at 0x1d005559450>],\n",
       " [Text(1.099999999987423, 5.260164880362898e-06, 'A'),\n",
       "  Text(1.0999985688998088, 0.001774378306015611, 'A-'),\n",
       "  Text(1.0913550679872286, 0.1376376241388655, 'B'),\n",
       "  Text(1.0554747420646429, 0.30979520471365524, 'B+'),\n",
       "  Text(0.9270329185951346, 0.5921232708152809, 'B-'),\n",
       "  Text(-0.07760722731503904, 1.0972589112276427, 'C'),\n",
       "  Text(-0.995628845489926, 0.4676785242326157, 'C+'),\n",
       "  Text(-0.7642148898272569, -0.7911861994286261, 'D'),\n",
       "  Text(0.8655610280214389, -0.6788255348544795, 'F')])"
      ]
     },
     "execution_count": 122,
     "metadata": {},
     "output_type": "execute_result"
    },
    {
     "data": {
      "image/png": "[encoded data removed]",
      "text/plain": [
       "<Figure size 640x480 with 2 Axes>"
      ]
     },
     "metadata": {},
     "output_type": "display_data"
    }
   ],
   "source": [
    "fig, ax = plt.subplots(1, 2)\n",
    "ax[0].pie(pred1[1], labels=model1.classes_)\n",
    "ax[1].pie(pred2[1], labels=model2.classes_)"
   ]
  },
  {
   "cell_type": "code",
   "execution_count": 117,
   "id": "92f12abb",
   "metadata": {},
   "outputs": [
    {
     "data": {
      "text/plain": [
       "([<matplotlib.patches.Wedge at 0x1d005350b90>,\n",
       "  <matplotlib.patches.Wedge at 0x1d005350e10>,\n",
       "  <matplotlib.patches.Wedge at 0x1d005351090>,\n",
       "  <matplotlib.patches.Wedge at 0x1d005351310>,\n",
       "  <matplotlib.patches.Wedge at 0x1d005351590>,\n",
       "  <matplotlib.patches.Wedge at 0x1d005351810>,\n",
       "  <matplotlib.patches.Wedge at 0x1d005351a90>,\n",
       "  <matplotlib.patches.Wedge at 0x1d005351d10>,\n",
       "  <matplotlib.patches.Wedge at 0x1d005351f90>],\n",
       " [Text(1.0999929982549805, 0.003924766237444336, 'A'),\n",
       "  Text(1.0957400235749046, 0.09671504917057931, 'A-'),\n",
       "  Text(0.8910217731164598, 0.645042789148441, 'B'),\n",
       "  Text(0.1857501108471762, 1.0842033463886107, 'B+'),\n",
       "  Text(-0.517557435284194, 0.9706360292004659, 'B-'),\n",
       "  Text(-1.099281607600647, -0.03974854954507704, 'C'),\n",
       "  Text(-0.2762065476876338, -1.0647581617505824, 'C+'),\n",
       "  Text(0.797825649442726, -0.7572808152140741, 'D'),\n",
       "  Text(1.0944756158208178, -0.1101050696999992, 'F')])"
      ]
     },
     "execution_count": 117,
     "metadata": {},
     "output_type": "execute_result"
    },
    {
     "data": {
      "image/png": "[encoded data removed]",
      "text/plain": [
       "<Figure size 640x480 with 2 Axes>"
      ]
     },
     "metadata": {},
     "output_type": "display_data"
    }
   ],
   "source": [
    "fig, ax = plt.subplots(1, 2)\n",
    "ax[0].pie(pred1[2], labels=model1.classes_)\n",
    "ax[1].pie(pred2[2], labels=model2.classes_)"
   ]
  },
  {
   "cell_type": "code",
   "execution_count": null,
   "id": "e8fce0b6",
   "metadata": {},
   "outputs": [],
   "source": []
  }
 ],
 "metadata": {
  "kernelspec": {
   "display_name": "grade-prediction",
   "language": "python",
   "name": "python3"
  },
  "language_info": {
   "codemirror_mode": {
    "name": "ipython",
    "version": 3
   },
   "file_extension": ".py",
   "mimetype": "text/x-python",
   "name": "python",
   "nbconvert_exporter": "python",
   "pygments_lexer": "ipython3",
   "version": "3.13.5"
  }
 },
 "nbformat": 4,
 "nbformat_minor": 5
}
