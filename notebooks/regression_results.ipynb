{
 "cells": [
  {
   "cell_type": "markdown",
   "id": "334eadc3",
   "metadata": {},
   "source": [
    "We analyze the results of the best models obtained by cross-validation."
   ]
  },
  {
   "cell_type": "markdown",
   "id": "d8be0362",
   "metadata": {},
   "source": [
    "# Imports"
   ]
  },
  {
   "cell_type": "code",
   "execution_count": 1,
   "id": "356a9ea5",
   "metadata": {},
   "outputs": [],
   "source": [
    "import statsmodels.api as sm\n",
    "import pandas as pd\n",
    "from pickle import load"
   ]
  },
  {
   "cell_type": "markdown",
   "id": "4f08e13e",
   "metadata": {},
   "source": [
    "# Load data and models"
   ]
  },
  {
   "cell_type": "code",
   "execution_count": 2,
   "id": "8bebb444",
   "metadata": {},
   "outputs": [],
   "source": [
    "from src.utils import get_data\n",
    "\n",
    "X_train, X_test, y_train, y_test = get_data()"
   ]
  },
  {
   "cell_type": "code",
   "execution_count": 3,
   "id": "3f758564",
   "metadata": {},
   "outputs": [],
   "source": [
    "with open(\"../results/regression/gb_reg.pkl\", \"rb\") as f:\n",
    "    gb_reg = load(f)"
   ]
  },
  {
   "cell_type": "code",
   "execution_count": 4,
   "id": "d2460f5c",
   "metadata": {},
   "outputs": [],
   "source": [
    "with open(\"../results/regression/lin_reg.pkl\", \"rb\") as f:\n",
    "    lin_reg = load(f)"
   ]
  },
  {
   "cell_type": "code",
   "execution_count": 5,
   "id": "43b018d7",
   "metadata": {},
   "outputs": [
    {
     "name": "stdout",
     "output_type": "stream",
     "text": [
      "Model: lin_reg\n",
      "Score on training set = 0.588\n",
      "Score on test set = 0.640\n",
      "\n",
      "Model: gb_reg\n",
      "Score on training set = 0.639\n",
      "Score on test set = 0.625\n",
      "\n"
     ]
    }
   ],
   "source": [
    "# Check scores\n",
    "\n",
    "for model, name in [(lin_reg, \"lin_reg\"), (gb_reg, \"gb_reg\")]:\n",
    "    print(\"Model:\", name)\n",
    "    print(f\"Score on training set = {model.score(X_train, y_train):.3f}\")\n",
    "    print(f\"Score on test set = {model.score(X_test, y_test):.3f}\\n\")"
   ]
  },
  {
   "cell_type": "markdown",
   "id": "f3cfa082",
   "metadata": {},
   "source": [
    "The discrepancy is probably due to chance. Other random seeds for the split give different (but similar) results."
   ]
  },
  {
   "cell_type": "markdown",
   "id": "f9663e86",
   "metadata": {},
   "source": [
    "# Feature importance"
   ]
  },
  {
   "cell_type": "code",
   "execution_count": 6,
   "id": "d95e28c5",
   "metadata": {},
   "outputs": [
    {
     "name": "stdout",
     "output_type": "stream",
     "text": [
      "Quiz: 0.030\n",
      "HW: 0.047\n",
      "Participation: 0.000\n",
      "Midterm: 0.923\n"
     ]
    }
   ],
   "source": [
    "for feature, weight in zip(X_train.columns, gb_reg.feature_importances_):\n",
    "    print(f\"{feature}: {weight:.3f}\")"
   ]
  },
  {
   "cell_type": "markdown",
   "id": "b7731041",
   "metadata": {},
   "source": [
    "Clearly, the midterm is what matters most to the final exam score. Considering that the midterm and the final are done in class and they other assignments at home, it makes sense!"
   ]
  },
  {
   "cell_type": "markdown",
   "id": "7b580aee",
   "metadata": {},
   "source": [
    "# Statistical analysis"
   ]
  },
  {
   "cell_type": "markdown",
   "id": "fd35aa72",
   "metadata": {},
   "source": [
    "Let us perform a simple statistical analysis for the (essentially optimal) linear regression model."
   ]
  },
  {
   "cell_type": "markdown",
   "id": "9d966b87",
   "metadata": {},
   "source": [
    "### Linear regression weights"
   ]
  },
  {
   "cell_type": "code",
   "execution_count": 7,
   "id": "4fb698c9",
   "metadata": {},
   "outputs": [
    {
     "name": "stdout",
     "output_type": "stream",
     "text": [
      "Intercept: 0.280\n",
      "Quiz weight: 0.124\n",
      "HW weight: 1.041\n",
      "Participation weight: 0.024\n",
      "Midterm weight: 0.720\n"
     ]
    }
   ],
   "source": [
    "# Check coefficients\n",
    "\n",
    "print(f\"Intercept: {lin_reg.intercept_:.3f}\")\n",
    "for feature, weight in zip(X_train.columns, lin_reg.coef_):\n",
    "    print(f\"{feature} weight: {weight:.3f}\")"
   ]
  },
  {
   "cell_type": "markdown",
   "id": "2749f4e9",
   "metadata": {},
   "source": [
    "Essentially, this means that everyone starts with 28 \"free\" points.\n",
    "- Participation grade is essentially irrelevant. Getting full marks (5) would only increase the final exam grade by 0.1, on average. *This does not mean that participation does not matter!*\n",
    "- The same can be said for quizzes (full marks 20).\n",
    "- The HW grade seem to have a massive effect: a student with 20/20 on the HW can expect a final exam grade 20*1.04 ~ 21 points higher. Nonetheless, this is essentially due to the fact that most students get very high HW grades. This can be explained by the fact that is an at-home assignment with no time limit, lax grading, or academic dishonesty. Essentially, the HW grade can almost be counted as part of the intercept, and only students who really slack get low HW grades.\n",
    "- As expected, the midterm is what matters the most, and each point on the midterm translates to 0.72 points on the final on average. For instance, a student with a 90 on the midterm can expect 90*0.72 + 28 ~ 93 on the final."
   ]
  },
  {
   "cell_type": "markdown",
   "id": "6989ae24",
   "metadata": {},
   "source": [
    "### p-values"
   ]
  },
  {
   "cell_type": "code",
   "execution_count": 8,
   "id": "199df1ae",
   "metadata": {},
   "outputs": [
    {
     "name": "stdout",
     "output_type": "stream",
     "text": [
      "                            OLS Regression Results                            \n",
      "==============================================================================\n",
      "Dep. Variable:                  Final   R-squared:                       0.588\n",
      "Model:                            OLS   Adj. R-squared:                  0.586\n",
      "Method:                 Least Squares   F-statistic:                     213.6\n",
      "Date:                Mon, 07 Jul 2025   Prob (F-statistic):          1.00e-113\n",
      "Time:                        14:31:13   Log-Likelihood:                -2405.4\n",
      "No. Observations:                 603   AIC:                             4821.\n",
      "Df Residuals:                     598   BIC:                             4843.\n",
      "Df Model:                           4                                         \n",
      "Covariance Type:            nonrobust                                         \n",
      "=================================================================================\n",
      "                    coef    std err          t      P>|t|      [0.025      0.975]\n",
      "---------------------------------------------------------------------------------\n",
      "const             0.2796      4.436      0.063      0.950      -8.433       8.992\n",
      "Quiz              0.1242      0.269      0.461      0.645      -0.405       0.653\n",
      "HW                1.0411      0.319      3.264      0.001       0.415       1.667\n",
      "Participation     0.0238      0.575      0.041      0.967      -1.106       1.153\n",
      "Midterm           0.7204      0.034     21.219      0.000       0.654       0.787\n",
      "==============================================================================\n",
      "Omnibus:                       27.982   Durbin-Watson:                   1.962\n",
      "Prob(Omnibus):                  0.000   Jarque-Bera (JB):               53.712\n",
      "Skew:                          -0.291   Prob(JB):                     2.17e-12\n",
      "Kurtosis:                       4.341   Cond. No.                         657.\n",
      "==============================================================================\n",
      "\n",
      "Notes:\n",
      "[1] Standard Errors assume that the covariance matrix of the errors is correctly specified.\n"
     ]
    }
   ],
   "source": [
    "X_train_sm = sm.add_constant(X_train)\n",
    "lin_reg_sm = sm.OLS(y_train, X_train_sm).fit()\n",
    "print(lin_reg_sm.summary())"
   ]
  },
  {
   "cell_type": "markdown",
   "id": "e22f2aa1",
   "metadata": {},
   "source": [
    "The p-values confirm the previous findings."
   ]
  },
  {
   "cell_type": "markdown",
   "id": "9983e2d4",
   "metadata": {},
   "source": [
    "### Prediction"
   ]
  },
  {
   "cell_type": "markdown",
   "id": "e3efd6d2",
   "metadata": {},
   "source": [
    "We predict the final exam grade of a few students, including confidence and prediction intervals. *Note that we need to include 1 for the intercept.*"
   ]
  },
  {
   "cell_type": "markdown",
   "id": "0954a1c3",
   "metadata": {},
   "source": [
    "We consider the following students.\n",
    "- One who does excellently on all assignments.\n",
    "- One who does poorly on all assignments, but still shows up to class.\n",
    "- One who does well on at-home assignments, does not participate much, and does poorly on the midterm. Maybe a student who is not totally honest.\n",
    "- A student who only does quick and important assignments (quizzes and midterm) but does not do HW or come to class. Maybe a student who studied the material before and may be a bit overconfident.\n",
    "- A student who does poorly on timed assignments, but tries their best by doing their homework earnestly and coming to class."
   ]
  },
  {
   "cell_type": "code",
   "execution_count": 9,
   "id": "5ad828c3",
   "metadata": {},
   "outputs": [],
   "source": [
    "X_pred = pd.DataFrame(\n",
    "    {\n",
    "        \"Intercept\": [1, 1, 1, 1, 1],\n",
    "        \"Quiz\": [18, 8, 19, 17, 12],\n",
    "        \"HW\": [19, 11, 20, 6, 19],\n",
    "        \"Participation\": [5, 5, 3, 0, 5],\n",
    "        \"Midterm\": [95, 60, 50, 85, 65],\n",
    "    }\n",
    ")"
   ]
  },
  {
   "cell_type": "code",
   "execution_count": 10,
   "id": "f4dc32fc",
   "metadata": {},
   "outputs": [],
   "source": [
    "predictions = lin_reg_sm.get_prediction(X_pred)"
   ]
  },
  {
   "cell_type": "code",
   "execution_count": 11,
   "id": "8a0341a6",
   "metadata": {},
   "outputs": [],
   "source": [
    "results = X_pred.copy().drop([\"Intercept\"], axis=1)\n",
    "results[\"Predicted final exam grade\"] = predictions.predicted\n",
    "# Confidence interval\n",
    "results[[\"CI lower\", \"CI upper\"]] = predictions.conf_int()\n",
    "# Prediction interval\n",
    "results[[\"PI lower\", \"PI upper\"]] = predictions.summary_frame()[\n",
    "    [\"obs_ci_lower\", \"obs_ci_upper\"]\n",
    "]"
   ]
  },
  {
   "cell_type": "code",
   "execution_count": 12,
   "id": "1f436c6c",
   "metadata": {},
   "outputs": [
    {
     "data": {
      "application/vnd.microsoft.datawrangler.viewer.v0+json": {
       "columns": [
        {
         "name": "index",
         "rawType": "int64",
         "type": "integer"
        },
        {
         "name": "Quiz",
         "rawType": "int64",
         "type": "integer"
        },
        {
         "name": "HW",
         "rawType": "int64",
         "type": "integer"
        },
        {
         "name": "Participation",
         "rawType": "int64",
         "type": "integer"
        },
        {
         "name": "Midterm",
         "rawType": "int64",
         "type": "integer"
        },
        {
         "name": "Predicted final exam grade",
         "rawType": "float64",
         "type": "float"
        },
        {
         "name": "CI lower",
         "rawType": "float64",
         "type": "float"
        },
        {
         "name": "CI upper",
         "rawType": "float64",
         "type": "float"
        },
        {
         "name": "PI lower",
         "rawType": "float64",
         "type": "float"
        },
        {
         "name": "PI upper",
         "rawType": "float64",
         "type": "float"
        }
       ],
       "ref": "f761e706-f745-49d7-bd35-726e58a5629f",
       "rows": [
        [
         "0",
         "18",
         "19",
         "5",
         "95",
         "90.85376010712676",
         "89.25000785507676",
         "92.45751235917676",
         "65.03456669485195",
         "116.67295351940157"
        ],
        [
         "1",
         "8",
         "11",
         "5",
         "60",
         "56.06867192832385",
         "51.876381412864696",
         "60.26096244378301",
         "29.96055007054732",
         "82.17679378610038"
        ],
        [
         "2",
         "19",
         "20",
         "3",
         "50",
         "59.553330874188774",
         "56.284938492381166",
         "62.82172325599638",
         "33.57755146459343",
         "85.52911028378412"
        ],
        [
         "3",
         "17",
         "6",
         "0",
         "85",
         "69.87218467322361",
         "61.55807280947013",
         "78.1862965369771",
         "42.794829129199265",
         "96.94954021724797"
        ],
        [
         "4",
         "12",
         "19",
         "5",
         "65",
         "68.49636097987694",
         "65.66389987482647",
         "71.32882208492741",
         "42.571825051800545",
         "94.42089690795333"
        ]
       ],
       "shape": {
        "columns": 9,
        "rows": 5
       }
      },
      "text/html": [
       "<div>\n",
       "<style scoped>\n",
       "    .dataframe tbody tr th:only-of-type {\n",
       "        vertical-align: middle;\n",
       "    }\n",
       "\n",
       "    .dataframe tbody tr th {\n",
       "        vertical-align: top;\n",
       "    }\n",
       "\n",
       "    .dataframe thead th {\n",
       "        text-align: right;\n",
       "    }\n",
       "</style>\n",
       "<table border=\"1\" class=\"dataframe\">\n",
       "  <thead>\n",
       "    <tr style=\"text-align: right;\">\n",
       "      <th></th>\n",
       "      <th>Quiz</th>\n",
       "      <th>HW</th>\n",
       "      <th>Participation</th>\n",
       "      <th>Midterm</th>\n",
       "      <th>Predicted final exam grade</th>\n",
       "      <th>CI lower</th>\n",
       "      <th>CI upper</th>\n",
       "      <th>PI lower</th>\n",
       "      <th>PI upper</th>\n",
       "    </tr>\n",
       "  </thead>\n",
       "  <tbody>\n",
       "    <tr>\n",
       "      <th>0</th>\n",
       "      <td>18</td>\n",
       "      <td>19</td>\n",
       "      <td>5</td>\n",
       "      <td>95</td>\n",
       "      <td>90.853760</td>\n",
       "      <td>89.250008</td>\n",
       "      <td>92.457512</td>\n",
       "      <td>65.034567</td>\n",
       "      <td>116.672954</td>\n",
       "    </tr>\n",
       "    <tr>\n",
       "      <th>1</th>\n",
       "      <td>8</td>\n",
       "      <td>11</td>\n",
       "      <td>5</td>\n",
       "      <td>60</td>\n",
       "      <td>56.068672</td>\n",
       "      <td>51.876381</td>\n",
       "      <td>60.260962</td>\n",
       "      <td>29.960550</td>\n",
       "      <td>82.176794</td>\n",
       "    </tr>\n",
       "    <tr>\n",
       "      <th>2</th>\n",
       "      <td>19</td>\n",
       "      <td>20</td>\n",
       "      <td>3</td>\n",
       "      <td>50</td>\n",
       "      <td>59.553331</td>\n",
       "      <td>56.284938</td>\n",
       "      <td>62.821723</td>\n",
       "      <td>33.577551</td>\n",
       "      <td>85.529110</td>\n",
       "    </tr>\n",
       "    <tr>\n",
       "      <th>3</th>\n",
       "      <td>17</td>\n",
       "      <td>6</td>\n",
       "      <td>0</td>\n",
       "      <td>85</td>\n",
       "      <td>69.872185</td>\n",
       "      <td>61.558073</td>\n",
       "      <td>78.186297</td>\n",
       "      <td>42.794829</td>\n",
       "      <td>96.949540</td>\n",
       "    </tr>\n",
       "    <tr>\n",
       "      <th>4</th>\n",
       "      <td>12</td>\n",
       "      <td>19</td>\n",
       "      <td>5</td>\n",
       "      <td>65</td>\n",
       "      <td>68.496361</td>\n",
       "      <td>65.663900</td>\n",
       "      <td>71.328822</td>\n",
       "      <td>42.571825</td>\n",
       "      <td>94.420897</td>\n",
       "    </tr>\n",
       "  </tbody>\n",
       "</table>\n",
       "</div>"
      ],
      "text/plain": [
       "   Quiz  HW  Participation  Midterm  Predicted final exam grade   CI lower  \\\n",
       "0    18  19              5       95                   90.853760  89.250008   \n",
       "1     8  11              5       60                   56.068672  51.876381   \n",
       "2    19  20              3       50                   59.553331  56.284938   \n",
       "3    17   6              0       85                   69.872185  61.558073   \n",
       "4    12  19              5       65                   68.496361  65.663900   \n",
       "\n",
       "    CI upper   PI lower    PI upper  \n",
       "0  92.457512  65.034567  116.672954  \n",
       "1  60.260962  29.960550   82.176794  \n",
       "2  62.821723  33.577551   85.529110  \n",
       "3  78.186297  42.794829   96.949540  \n",
       "4  71.328822  42.571825   94.420897  "
      ]
     },
     "execution_count": 12,
     "metadata": {},
     "output_type": "execute_result"
    }
   ],
   "source": [
    "results"
   ]
  },
  {
   "cell_type": "markdown",
   "id": "08c0b7d4",
   "metadata": {},
   "source": [
    "Interestingly, the last student have essentially equal predicted grades, but there is more uncertainty on the \"good but slacking\" student compared to the \"hardworking but not-so-succeful\" student."
   ]
  },
  {
   "cell_type": "code",
   "execution_count": 13,
   "id": "8cc73ffc",
   "metadata": {},
   "outputs": [],
   "source": [
    "# Save results\n",
    "\n",
    "results.to_csv('../results/regression/predictions.csv')"
   ]
  }
 ],
 "metadata": {
  "kernelspec": {
   "display_name": "grade-prediction",
   "language": "python",
   "name": "python3"
  },
  "language_info": {
   "codemirror_mode": {
    "name": "ipython",
    "version": 3
   },
   "file_extension": ".py",
   "mimetype": "text/x-python",
   "name": "python",
   "nbconvert_exporter": "python",
   "pygments_lexer": "ipython3",
   "version": "3.13.5"
  }
 },
 "nbformat": 4,
 "nbformat_minor": 5
}
