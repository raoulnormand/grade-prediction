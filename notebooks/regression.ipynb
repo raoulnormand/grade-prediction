{
 "cells": [
  {
   "cell_type": "code",
   "execution_count": 1,
   "id": "f5e0cb5e",
   "metadata": {},
   "outputs": [],
   "source": [
    "# Standard imports\n",
    "\n",
    "import pandas as pd\n",
    "import numpy as np"
   ]
  },
  {
   "cell_type": "code",
   "execution_count": 2,
   "id": "d7cdbd3e",
   "metadata": {},
   "outputs": [],
   "source": [
    "# Sklearn imports\n",
    "\n",
    "from sklearn.ensemble import GradientBoostingRegressor, RandomForestRegressor\n",
    "from sklearn.linear_model import Lasso, LinearRegression, Ridge\n",
    "from sklearn.model_selection import GridSearchCV, train_test_split\n",
    "from sklearn.neighbors import KNeighborsRegressor\n",
    "from sklearn.pipeline import Pipeline\n",
    "from sklearn.preprocessing import StandardScaler"
   ]
  },
  {
   "cell_type": "markdown",
   "id": "9885b006",
   "metadata": {},
   "source": [
    "# Load data"
   ]
  },
  {
   "cell_type": "code",
   "execution_count": 3,
   "id": "b971ed89",
   "metadata": {},
   "outputs": [],
   "source": [
    "features = [\"Quiz\", \"HW\", \"Participation\", \"Midterm\"]\n",
    "target = \"Final\"\n",
    "grades = pd.read_csv(\"../data/final/all_grades_no_outliers.csv\")\n",
    "X = grades[features]\n",
    "y = grades[target]\n",
    "\n",
    "X_trainval, X_test, y_trainval, y_test = train_test_split(\n",
    "    X, y, shuffle=True, random_state=314\n",
    ")"
   ]
  },
  {
   "cell_type": "markdown",
   "id": "7ade8f94",
   "metadata": {},
   "source": [
    "# Apply CV on models"
   ]
  },
  {
   "cell_type": "code",
   "execution_count": 4,
   "id": "74cdeab0",
   "metadata": {},
   "outputs": [],
   "source": [
    "# Define models\n",
    "\n",
    "model_names = [\"linear_regression\", \"ridge\", \"lasso\", \"knn\", \"random_forest\", \"gb_tree\"]\n",
    "\n",
    "models = [\n",
    "    LinearRegression(),\n",
    "    Ridge(),\n",
    "    Lasso(),\n",
    "    KNeighborsRegressor(),\n",
    "    RandomForestRegressor(),\n",
    "    GradientBoostingRegressor(),\n",
    "]\n",
    "\n",
    "parameters = [\n",
    "    {},\n",
    "    {\"ridge__alpha\": np.logspace(-3, 3, 7)},\n",
    "    {\"lasso__alpha\": np.logspace(-3, 3, 7)},\n",
    "    {\"knn__n_neighbors\": [1, 3, 5, 10, 20, 50]},\n",
    "    {\n",
    "        \"random_forest__n_estimators\": [1, 10, 100, 500],\n",
    "        \"random_forest__max_depth\": [1, 2, 3, 4, 5],\n",
    "    },\n",
    "    {\"gb_tree__n_estimators\": [1, 10, 100, 500], \"gb_tree__max_depth\": [1, 2, 3, 4, 5]},\n",
    "]"
   ]
  },
  {
   "cell_type": "code",
   "execution_count": 5,
   "id": "13a9165a",
   "metadata": {},
   "outputs": [],
   "source": [
    "# Apply cross-validation for each model\n",
    "\n",
    "grid_search = dict.fromkeys(model_names)\n",
    "\n",
    "for model_name, model, params in zip(model_names, models, parameters):\n",
    "    \"\"\"\n",
    "    Performs grid search for the given model and parameters, with standard scaling.\n",
    "    \"\"\"\n",
    "    pipeline = Pipeline([(\"scaler\", StandardScaler()), (model_name, model)])\n",
    "    grid_search[model_name] = GridSearchCV(pipeline, param_grid=params, n_jobs=-1).fit(\n",
    "        X_trainval, y_trainval\n",
    "    )"
   ]
  },
  {
   "cell_type": "code",
   "execution_count": 6,
   "id": "80da431c",
   "metadata": {},
   "outputs": [],
   "source": [
    "# Check best score and parameters\n",
    "\n",
    "results = {\n",
    "    model: [grid_search[model].best_params_, grid_search[model].best_score_]\n",
    "    for model in model_names\n",
    "}"
   ]
  },
  {
   "cell_type": "code",
   "execution_count": 7,
   "id": "90f82be1",
   "metadata": {},
   "outputs": [
    {
     "data": {
      "application/vnd.microsoft.datawrangler.viewer.v0+json": {
       "columns": [
        {
         "name": "index",
         "rawType": "int64",
         "type": "integer"
        },
        {
         "name": "linear_regression",
         "rawType": "object",
         "type": "unknown"
        },
        {
         "name": "ridge",
         "rawType": "object",
         "type": "unknown"
        },
        {
         "name": "lasso",
         "rawType": "object",
         "type": "unknown"
        },
        {
         "name": "knn",
         "rawType": "object",
         "type": "unknown"
        },
        {
         "name": "random_forest",
         "rawType": "object",
         "type": "unknown"
        },
        {
         "name": "gb_tree",
         "rawType": "object",
         "type": "unknown"
        }
       ],
       "ref": "3ca16685-8da8-45bf-bd71-acb3e0606673",
       "rows": [
        [
         "0",
         "{}",
         "{'ridge__alpha': np.float64(10.0)}",
         "{'lasso__alpha': np.float64(0.1)}",
         "{'knn__n_neighbors': 10}",
         "{'random_forest__max_depth': 3, 'random_forest__n_estimators': 500}",
         "{'gb_tree__max_depth': 1, 'gb_tree__n_estimators': 100}"
        ],
        [
         "1",
         "0.579474775347186",
         "0.5795305002420074",
         "0.5797313987576956",
         "0.5178052239723949",
         "0.5695718922723277",
         "0.5792694468961932"
        ]
       ],
       "shape": {
        "columns": 6,
        "rows": 2
       }
      },
      "text/html": [
       "<div>\n",
       "<style scoped>\n",
       "    .dataframe tbody tr th:only-of-type {\n",
       "        vertical-align: middle;\n",
       "    }\n",
       "\n",
       "    .dataframe tbody tr th {\n",
       "        vertical-align: top;\n",
       "    }\n",
       "\n",
       "    .dataframe thead th {\n",
       "        text-align: right;\n",
       "    }\n",
       "</style>\n",
       "<table border=\"1\" class=\"dataframe\">\n",
       "  <thead>\n",
       "    <tr style=\"text-align: right;\">\n",
       "      <th></th>\n",
       "      <th>linear_regression</th>\n",
       "      <th>ridge</th>\n",
       "      <th>lasso</th>\n",
       "      <th>knn</th>\n",
       "      <th>random_forest</th>\n",
       "      <th>gb_tree</th>\n",
       "    </tr>\n",
       "  </thead>\n",
       "  <tbody>\n",
       "    <tr>\n",
       "      <th>0</th>\n",
       "      <td>{}</td>\n",
       "      <td>{'ridge__alpha': 10.0}</td>\n",
       "      <td>{'lasso__alpha': 0.1}</td>\n",
       "      <td>{'knn__n_neighbors': 10}</td>\n",
       "      <td>{'random_forest__max_depth': 3, 'random_forest...</td>\n",
       "      <td>{'gb_tree__max_depth': 1, 'gb_tree__n_estimato...</td>\n",
       "    </tr>\n",
       "    <tr>\n",
       "      <th>1</th>\n",
       "      <td>0.579475</td>\n",
       "      <td>0.579531</td>\n",
       "      <td>0.579731</td>\n",
       "      <td>0.517805</td>\n",
       "      <td>0.569572</td>\n",
       "      <td>0.579269</td>\n",
       "    </tr>\n",
       "  </tbody>\n",
       "</table>\n",
       "</div>"
      ],
      "text/plain": [
       "  linear_regression                   ridge                  lasso  \\\n",
       "0                {}  {'ridge__alpha': 10.0}  {'lasso__alpha': 0.1}   \n",
       "1          0.579475                0.579531               0.579731   \n",
       "\n",
       "                        knn  \\\n",
       "0  {'knn__n_neighbors': 10}   \n",
       "1                  0.517805   \n",
       "\n",
       "                                       random_forest  \\\n",
       "0  {'random_forest__max_depth': 3, 'random_forest...   \n",
       "1                                           0.569572   \n",
       "\n",
       "                                             gb_tree  \n",
       "0  {'gb_tree__max_depth': 1, 'gb_tree__n_estimato...  \n",
       "1                                           0.579269  "
      ]
     },
     "execution_count": 7,
     "metadata": {},
     "output_type": "execute_result"
    }
   ],
   "source": [
    "pd.DataFrame(results)"
   ]
  },
  {
   "cell_type": "markdown",
   "id": "93f1e8b3",
   "metadata": {},
   "source": [
    "We see not much difference between linear regression, linear regression with regularization, and gradient boosted trees."
   ]
  },
  {
   "cell_type": "markdown",
   "id": "19c26ba9",
   "metadata": {},
   "source": [
    "# With polynomial features"
   ]
  },
  {
   "cell_type": "code",
   "execution_count": 8,
   "id": "34eaf119",
   "metadata": {},
   "outputs": [],
   "source": [
    "from sklearn.preprocessing import PolynomialFeatures"
   ]
  },
  {
   "cell_type": "code",
   "execution_count": 9,
   "id": "4accd241",
   "metadata": {},
   "outputs": [],
   "source": [
    "parameters_poly = [\n",
    "    {**parameter, \"poly_feat__degree\": [1, 2, 3]} for parameter in parameters\n",
    "]"
   ]
  },
  {
   "cell_type": "code",
   "execution_count": 10,
   "id": "9a8755df",
   "metadata": {},
   "outputs": [],
   "source": [
    "# Apply cross-validation with polynomial featuresfor each model\n",
    "\n",
    "grid_search_poly = dict.fromkeys(model_names)\n",
    "\n",
    "for model_name, model, params in zip(model_names, models, parameters_poly):\n",
    "    \"\"\"\n",
    "    Performs grid search for the given model and parameters, with standard scaling.\n",
    "    \"\"\"\n",
    "    pipeline = Pipeline(\n",
    "        [\n",
    "            (\"scaler\", StandardScaler()),\n",
    "            (\"poly_feat\", PolynomialFeatures()),\n",
    "            (model_name, model),\n",
    "        ]\n",
    "    )\n",
    "    grid_search_poly[model_name] = GridSearchCV(\n",
    "        pipeline, param_grid=params, n_jobs=-1\n",
    "    ).fit(X_trainval, y_trainval)"
   ]
  },
  {
   "cell_type": "code",
   "execution_count": 11,
   "id": "8b32c39b",
   "metadata": {},
   "outputs": [],
   "source": [
    "# Check best score and parameters\n",
    "\n",
    "results_poly = {\n",
    "    model: [grid_search_poly[model].best_params_, grid_search_poly[model].best_score_]\n",
    "    for model in model_names\n",
    "}"
   ]
  },
  {
   "cell_type": "code",
   "execution_count": 13,
   "id": "026378cd",
   "metadata": {},
   "outputs": [
    {
     "data": {
      "application/vnd.microsoft.datawrangler.viewer.v0+json": {
       "columns": [
        {
         "name": "index",
         "rawType": "int64",
         "type": "integer"
        },
        {
         "name": "linear_regression",
         "rawType": "object",
         "type": "unknown"
        },
        {
         "name": "ridge",
         "rawType": "object",
         "type": "unknown"
        },
        {
         "name": "lasso",
         "rawType": "object",
         "type": "unknown"
        },
        {
         "name": "knn",
         "rawType": "object",
         "type": "unknown"
        },
        {
         "name": "random_forest",
         "rawType": "object",
         "type": "unknown"
        },
        {
         "name": "gb_tree",
         "rawType": "object",
         "type": "unknown"
        }
       ],
       "ref": "4ce9111d-c510-4707-8f5e-779d30d2da6b",
       "rows": [
        [
         "0",
         "{}",
         "{'ridge__alpha': np.float64(10.0)}",
         "{'lasso__alpha': np.float64(0.1)}",
         "{'knn__n_neighbors': 10}",
         "{'random_forest__max_depth': 3, 'random_forest__n_estimators': 500}",
         "{'gb_tree__max_depth': 1, 'gb_tree__n_estimators': 100}"
        ],
        [
         "1",
         "0.579474775347186",
         "0.5795305002420074",
         "0.5797313987576956",
         "0.5178052239723949",
         "0.5695718922723277",
         "0.5792694468961932"
        ]
       ],
       "shape": {
        "columns": 6,
        "rows": 2
       }
      },
      "text/html": [
       "<div>\n",
       "<style scoped>\n",
       "    .dataframe tbody tr th:only-of-type {\n",
       "        vertical-align: middle;\n",
       "    }\n",
       "\n",
       "    .dataframe tbody tr th {\n",
       "        vertical-align: top;\n",
       "    }\n",
       "\n",
       "    .dataframe thead th {\n",
       "        text-align: right;\n",
       "    }\n",
       "</style>\n",
       "<table border=\"1\" class=\"dataframe\">\n",
       "  <thead>\n",
       "    <tr style=\"text-align: right;\">\n",
       "      <th></th>\n",
       "      <th>linear_regression</th>\n",
       "      <th>ridge</th>\n",
       "      <th>lasso</th>\n",
       "      <th>knn</th>\n",
       "      <th>random_forest</th>\n",
       "      <th>gb_tree</th>\n",
       "    </tr>\n",
       "  </thead>\n",
       "  <tbody>\n",
       "    <tr>\n",
       "      <th>0</th>\n",
       "      <td>{}</td>\n",
       "      <td>{'ridge__alpha': 10.0}</td>\n",
       "      <td>{'lasso__alpha': 0.1}</td>\n",
       "      <td>{'knn__n_neighbors': 10}</td>\n",
       "      <td>{'random_forest__max_depth': 3, 'random_forest...</td>\n",
       "      <td>{'gb_tree__max_depth': 1, 'gb_tree__n_estimato...</td>\n",
       "    </tr>\n",
       "    <tr>\n",
       "      <th>1</th>\n",
       "      <td>0.579475</td>\n",
       "      <td>0.579531</td>\n",
       "      <td>0.579731</td>\n",
       "      <td>0.517805</td>\n",
       "      <td>0.569572</td>\n",
       "      <td>0.579269</td>\n",
       "    </tr>\n",
       "  </tbody>\n",
       "</table>\n",
       "</div>"
      ],
      "text/plain": [
       "  linear_regression                   ridge                  lasso  \\\n",
       "0                {}  {'ridge__alpha': 10.0}  {'lasso__alpha': 0.1}   \n",
       "1          0.579475                0.579531               0.579731   \n",
       "\n",
       "                        knn  \\\n",
       "0  {'knn__n_neighbors': 10}   \n",
       "1                  0.517805   \n",
       "\n",
       "                                       random_forest  \\\n",
       "0  {'random_forest__max_depth': 3, 'random_forest...   \n",
       "1                                           0.569572   \n",
       "\n",
       "                                             gb_tree  \n",
       "0  {'gb_tree__max_depth': 1, 'gb_tree__n_estimato...  \n",
       "1                                           0.579269  "
      ]
     },
     "execution_count": 13,
     "metadata": {},
     "output_type": "execute_result"
    }
   ],
   "source": [
    "pd.DataFrame(results)"
   ]
  },
  {
   "cell_type": "code",
   "execution_count": 15,
   "id": "1dbb7804",
   "metadata": {},
   "outputs": [
    {
     "data": {
      "application/vnd.microsoft.datawrangler.viewer.v0+json": {
       "columns": [
        {
         "name": "index",
         "rawType": "int64",
         "type": "integer"
        },
        {
         "name": "linear_regression",
         "rawType": "object",
         "type": "unknown"
        },
        {
         "name": "ridge",
         "rawType": "object",
         "type": "unknown"
        },
        {
         "name": "lasso",
         "rawType": "object",
         "type": "unknown"
        },
        {
         "name": "knn",
         "rawType": "object",
         "type": "unknown"
        },
        {
         "name": "random_forest",
         "rawType": "object",
         "type": "unknown"
        },
        {
         "name": "gb_tree",
         "rawType": "object",
         "type": "unknown"
        }
       ],
       "ref": "f8d588da-d847-4dbd-aaab-2482cfd4c235",
       "rows": [
        [
         "0",
         "{'poly_feat__degree': 1}",
         "{'poly_feat__degree': 1, 'ridge__alpha': np.float64(10.0)}",
         "{'lasso__alpha': np.float64(0.1), 'poly_feat__degree': 1}",
         "{'knn__n_neighbors': 10, 'poly_feat__degree': 1}",
         "{'poly_feat__degree': 1, 'random_forest__max_depth': 3, 'random_forest__n_estimators': 10}",
         "{'gb_tree__max_depth': 1, 'gb_tree__n_estimators': 100, 'poly_feat__degree': 2}"
        ],
        [
         "1",
         "0.5794747753471859",
         "0.5795305002420075",
         "0.5797313987576956",
         "0.5178052239723949",
         "0.5752616114433684",
         "0.5822970298969425"
        ]
       ],
       "shape": {
        "columns": 6,
        "rows": 2
       }
      },
      "text/html": [
       "<div>\n",
       "<style scoped>\n",
       "    .dataframe tbody tr th:only-of-type {\n",
       "        vertical-align: middle;\n",
       "    }\n",
       "\n",
       "    .dataframe tbody tr th {\n",
       "        vertical-align: top;\n",
       "    }\n",
       "\n",
       "    .dataframe thead th {\n",
       "        text-align: right;\n",
       "    }\n",
       "</style>\n",
       "<table border=\"1\" class=\"dataframe\">\n",
       "  <thead>\n",
       "    <tr style=\"text-align: right;\">\n",
       "      <th></th>\n",
       "      <th>linear_regression</th>\n",
       "      <th>ridge</th>\n",
       "      <th>lasso</th>\n",
       "      <th>knn</th>\n",
       "      <th>random_forest</th>\n",
       "      <th>gb_tree</th>\n",
       "    </tr>\n",
       "  </thead>\n",
       "  <tbody>\n",
       "    <tr>\n",
       "      <th>0</th>\n",
       "      <td>{'poly_feat__degree': 1}</td>\n",
       "      <td>{'poly_feat__degree': 1, 'ridge__alpha': 10.0}</td>\n",
       "      <td>{'lasso__alpha': 0.1, 'poly_feat__degree': 1}</td>\n",
       "      <td>{'knn__n_neighbors': 10, 'poly_feat__degree': 1}</td>\n",
       "      <td>{'poly_feat__degree': 1, 'random_forest__max_d...</td>\n",
       "      <td>{'gb_tree__max_depth': 1, 'gb_tree__n_estimato...</td>\n",
       "    </tr>\n",
       "    <tr>\n",
       "      <th>1</th>\n",
       "      <td>0.579475</td>\n",
       "      <td>0.579531</td>\n",
       "      <td>0.579731</td>\n",
       "      <td>0.517805</td>\n",
       "      <td>0.575262</td>\n",
       "      <td>0.582297</td>\n",
       "    </tr>\n",
       "  </tbody>\n",
       "</table>\n",
       "</div>"
      ],
      "text/plain": [
       "          linear_regression                                           ridge  \\\n",
       "0  {'poly_feat__degree': 1}  {'poly_feat__degree': 1, 'ridge__alpha': 10.0}   \n",
       "1                  0.579475                                        0.579531   \n",
       "\n",
       "                                           lasso  \\\n",
       "0  {'lasso__alpha': 0.1, 'poly_feat__degree': 1}   \n",
       "1                                       0.579731   \n",
       "\n",
       "                                                knn  \\\n",
       "0  {'knn__n_neighbors': 10, 'poly_feat__degree': 1}   \n",
       "1                                          0.517805   \n",
       "\n",
       "                                       random_forest  \\\n",
       "0  {'poly_feat__degree': 1, 'random_forest__max_d...   \n",
       "1                                           0.575262   \n",
       "\n",
       "                                             gb_tree  \n",
       "0  {'gb_tree__max_depth': 1, 'gb_tree__n_estimato...  \n",
       "1                                           0.582297  "
      ]
     },
     "execution_count": 15,
     "metadata": {},
     "output_type": "execute_result"
    }
   ],
   "source": [
    "pd.DataFrame(results_poly)"
   ]
  },
  {
   "cell_type": "markdown",
   "id": "40ee3bbb",
   "metadata": {},
   "source": [
    "As we see, polynomial features barely help."
   ]
  },
  {
   "cell_type": "markdown",
   "id": "50f69323",
   "metadata": {},
   "source": [
    "# Feature importance"
   ]
  },
  {
   "cell_type": "markdown",
   "id": "d9be1aff",
   "metadata": {},
   "source": [
    "Let us quickly check feature importance for models that provides it. We do not use polynomial features since it barely improves the models, and choose the optimal parameters above."
   ]
  },
  {
   "cell_type": "code",
   "execution_count": 17,
   "id": "7364ec0d",
   "metadata": {},
   "outputs": [
    {
     "name": "stdout",
     "output_type": "stream",
     "text": [
      "Score on training set = 0.639\n",
      "Score on test set = 0.625\n"
     ]
    }
   ],
   "source": [
    "gbtree = GradientBoostingRegressor(max_depth=1, n_estimators=100)\n",
    "\n",
    "gbtree.fit(X_trainval, y_trainval)\n",
    "print(f\"Score on training set = {gbtree.score(X_trainval, y_trainval):.3f}\")\n",
    "print(f\"Score on test set = {gbtree.score(X_test, y_test):.3f}\")"
   ]
  },
  {
   "cell_type": "code",
   "execution_count": 18,
   "id": "96222494",
   "metadata": {},
   "outputs": [
    {
     "name": "stdout",
     "output_type": "stream",
     "text": [
      "Quiz : 0.03009000710661984\n",
      "HW : 0.046660080900109153\n",
      "Participation : 0.0\n",
      "Midterm : 0.923249911993271\n"
     ]
    }
   ],
   "source": [
    "for feature, weight in zip(X_trainval.columns, gbtree.feature_importances_):\n",
    "    print(feature + \" :\", weight)"
   ]
  },
  {
   "cell_type": "code",
   "execution_count": 19,
   "id": "a7776697",
   "metadata": {},
   "outputs": [
    {
     "name": "stdout",
     "output_type": "stream",
     "text": [
      "Score on training set = 0.636\n",
      "Score on test set = 0.629\n"
     ]
    }
   ],
   "source": [
    "forest = RandomForestRegressor(max_depth=3, n_estimators=500)\n",
    "\n",
    "forest.fit(X_trainval, y_trainval)\n",
    "print(f\"Score on training set = {forest.score(X_trainval, y_trainval):.3f}\")\n",
    "print(f\"Score on test set = {forest.score(X_test, y_test):.3f}\")"
   ]
  },
  {
   "cell_type": "code",
   "execution_count": 20,
   "id": "54f5c1ef",
   "metadata": {},
   "outputs": [
    {
     "name": "stdout",
     "output_type": "stream",
     "text": [
      "Quiz : 0.01798564241120142\n",
      "HW : 0.0320681354058496\n",
      "Participation : 0.001509637488409295\n",
      "Midterm : 0.9484365846945397\n"
     ]
    }
   ],
   "source": [
    "for feature, weight in zip(X_trainval.columns, forest.feature_importances_):\n",
    "    print(feature + \" :\", weight)"
   ]
  },
  {
   "cell_type": "markdown",
   "id": "e461928b",
   "metadata": {},
   "source": [
    "Clearly, the midterm is what matters most to the final exam score. Considering that the midterm and the final are done in class and they other assignments at home, it makes sense!"
   ]
  },
  {
   "cell_type": "markdown",
   "id": "ee8c8b8e",
   "metadata": {},
   "source": [
    "# Statistical analysis"
   ]
  },
  {
   "cell_type": "markdown",
   "id": "a974705d",
   "metadata": {},
   "source": [
    "Let us perform a simple statstical analysis for the essentially optimal linear regression model."
   ]
  },
  {
   "cell_type": "markdown",
   "id": "de4aed8f",
   "metadata": {},
   "source": [
    "### Weights"
   ]
  },
  {
   "cell_type": "code",
   "execution_count": 21,
   "id": "7800cc3c",
   "metadata": {},
   "outputs": [
    {
     "name": "stdout",
     "output_type": "stream",
     "text": [
      "Score on training set = 0.588\n",
      "Score on test set = 0.640\n"
     ]
    }
   ],
   "source": [
    "# Train model on the whole training test.\n",
    "\n",
    "linreg = LinearRegression()\n",
    "\n",
    "linreg.fit(X_trainval, y_trainval)\n",
    "print(f\"Score on training set = {linreg.score(X_trainval, y_trainval):.3f}\")\n",
    "print(f\"Score on test set = {linreg.score(X_test, y_test):.3f}\")"
   ]
  },
  {
   "cell_type": "code",
   "execution_count": null,
   "id": "9b4b4b38",
   "metadata": {},
   "outputs": [
    {
     "name": "stdout",
     "output_type": "stream",
     "text": [
      "Intercept: 0.2796187218526427\n",
      "Quiz weight: 0.12421784011649246\n",
      "HW weight: 1.0411002929160798\n",
      "Participation weight: 0.023804618072132827\n",
      "Midterm weight: 0.7204030695516952\n"
     ]
    }
   ],
   "source": [
    "# Check coefficients\n",
    "\n",
    "print(\"Intercept:\", linreg.intercept_)\n",
    "for feature, weight in zip(X_trainval.columns, linreg.coef_):\n",
    "    print(feature + \" weight:\", weight)"
   ]
  },
  {
   "cell_type": "markdown",
   "id": "29d0fa4f",
   "metadata": {},
   "source": [
    "Essentially, this means that everyone starts with 28 \"free\" points.\n",
    "- Participation grade is essentially irrelevant. Getting full marks (5) would only increase the final exam grade by 0.1, on average. *This does not mean that participation does not matter!*\n",
    "- The same can be said for quizzes (full marks 20).\n",
    "- The HW grade seem to have a massive effect: a student with 20/20 on the HW can expect a final exam grade 20*1.04 ~ 21 points higher. Nonetheless, this is essentially due to the fact that most students get very high HW grades. This can be explained by the fact that is an at-home assignment with no time limit, lax grading, or academic dishonesty. Essentially, the HW grade can almost be counted as part of the intercept, and only students who really slack get low HW grades.\n",
    "- As expected, the midterm is what matters the most, and each point on the midterm translates to 0.72 points on the final on average. For instance, a student with a 90 on the midterm can expect 90*0.72 + 28 ~ 93 on the final."
   ]
  },
  {
   "cell_type": "markdown",
   "id": "dad3adae",
   "metadata": {},
   "source": [
    "### p-values"
   ]
  },
  {
   "cell_type": "code",
   "execution_count": 24,
   "id": "50156a02",
   "metadata": {},
   "outputs": [],
   "source": [
    "import statsmodels.api as sm"
   ]
  },
  {
   "cell_type": "code",
   "execution_count": 25,
   "id": "38fbcb93",
   "metadata": {},
   "outputs": [],
   "source": [
    "X_train_sm = sm.add_constant(X_trainval)"
   ]
  },
  {
   "cell_type": "code",
   "execution_count": 26,
   "id": "47a2698a",
   "metadata": {},
   "outputs": [],
   "source": [
    "model = sm.OLS(y_trainval, X_train_sm).fit()"
   ]
  },
  {
   "cell_type": "code",
   "execution_count": 27,
   "id": "1a6ff193",
   "metadata": {},
   "outputs": [
    {
     "name": "stdout",
     "output_type": "stream",
     "text": [
      "                            OLS Regression Results                            \n",
      "==============================================================================\n",
      "Dep. Variable:                  Final   R-squared:                       0.588\n",
      "Model:                            OLS   Adj. R-squared:                  0.586\n",
      "Method:                 Least Squares   F-statistic:                     213.6\n",
      "Date:                Wed, 25 Jun 2025   Prob (F-statistic):          1.00e-113\n",
      "Time:                        20:47:07   Log-Likelihood:                -2405.4\n",
      "No. Observations:                 603   AIC:                             4821.\n",
      "Df Residuals:                     598   BIC:                             4843.\n",
      "Df Model:                           4                                         \n",
      "Covariance Type:            nonrobust                                         \n",
      "=================================================================================\n",
      "                    coef    std err          t      P>|t|      [0.025      0.975]\n",
      "---------------------------------------------------------------------------------\n",
      "const             0.2796      4.436      0.063      0.950      -8.433       8.992\n",
      "Quiz              0.1242      0.269      0.461      0.645      -0.405       0.653\n",
      "HW                1.0411      0.319      3.264      0.001       0.415       1.667\n",
      "Participation     0.0238      0.575      0.041      0.967      -1.106       1.153\n",
      "Midterm           0.7204      0.034     21.219      0.000       0.654       0.787\n",
      "==============================================================================\n",
      "Omnibus:                       27.982   Durbin-Watson:                   1.962\n",
      "Prob(Omnibus):                  0.000   Jarque-Bera (JB):               53.712\n",
      "Skew:                          -0.291   Prob(JB):                     2.17e-12\n",
      "Kurtosis:                       4.341   Cond. No.                         657.\n",
      "==============================================================================\n",
      "\n",
      "Notes:\n",
      "[1] Standard Errors assume that the covariance matrix of the errors is correctly specified.\n"
     ]
    }
   ],
   "source": [
    "print(model.summary())"
   ]
  },
  {
   "cell_type": "markdown",
   "id": "293ec934",
   "metadata": {},
   "source": [
    "The p-values confirm the previous findings."
   ]
  },
  {
   "cell_type": "markdown",
   "id": "ccb00046",
   "metadata": {},
   "source": [
    "### Prediction"
   ]
  },
  {
   "cell_type": "markdown",
   "id": "8e3f1158",
   "metadata": {},
   "source": [
    "We predict the final exam grade of a few students, including confidence and prediction intervals. *Note that we need to include 1 for the intercept.*"
   ]
  },
  {
   "cell_type": "markdown",
   "id": "c219e1ad",
   "metadata": {},
   "source": [
    "We consider the following students.\n",
    "- One who does excellently / poorly / average on all the assignments.\n",
    "- One who does great on at-home assignments, poorly on the midterm exams.\n",
    "- One who does poorly on at-home assignments, great on the midterm exams.\n",
    "- One who does not participate or does honework, but does fine on quizzes and midtern.\n",
    "- One who participates and does well on homework, but does average on quizzes and midterm."
   ]
  },
  {
   "cell_type": "code",
   "execution_count": 32,
   "id": "bfecf68d",
   "metadata": {},
   "outputs": [],
   "source": [
    "X_pred = [[1, 18, 19, 5, 96],\n",
    "          [1, 5, 12, 2, 50],\n",
    "          [1, 12, 15, 5, 70], \n",
    "          [1, 18, 20, 5, 50],\n",
    "          [1, 7, 2, 1, 85],\n",
    "          [1, 18, 0, 0, 80],\n",
    "          [1, 10, 18, 5, 60]\n",
    "          ] \n"
   ]
  },
  {
   "cell_type": "code",
   "execution_count": null,
   "id": "b5be5c3a",
   "metadata": {},
   "outputs": [
    {
     "data": {
      "text/plain": [
       "array([[89.92931659, 93.21900976],\n",
       "       [44.4058365 , 54.5175118 ],\n",
       "       [65.58108091, 70.2868694 ],\n",
       "       [56.91268727, 62.04075727],\n",
       "       [55.56960084, 73.40921859],\n",
       "       [48.48867887, 71.80689195],\n",
       "       [60.25133383, 66.95828549]])"
      ]
     },
     "execution_count": 33,
     "metadata": {},
     "output_type": "execute_result"
    }
   ],
   "source": [
    "# Get 95% confidence interval for each student.\n",
    "\n",
    "pred = model.get_prediction(X_pred)\n",
    "pred.conf_int()"
   ]
  },
  {
   "cell_type": "code",
   "execution_count": 42,
   "id": "3592da82",
   "metadata": {},
   "outputs": [
    {
     "data": {
      "application/vnd.microsoft.datawrangler.viewer.v0+json": {
       "columns": [
        {
         "name": "index",
         "rawType": "int64",
         "type": "integer"
        },
        {
         "name": "obs_ci_lower",
         "rawType": "float64",
         "type": "float"
        },
        {
         "name": "obs_ci_upper",
         "rawType": "float64",
         "type": "float"
        }
       ],
       "ref": "6211185c-5247-45c1-b782-1a3e6ef2e08b",
       "rows": [
        [
         "0",
         "65.75238462722132",
         "117.39594172613559"
        ],
        [
         "1",
         "23.201053032761415",
         "75.72229526955277"
        ],
        [
         "2",
         "42.05744450547127",
         "93.81050580647093"
        ],
        [
         "3",
         "33.58013943255635",
         "85.37330510787673"
        ],
        [
         "4",
         "37.21998146036191",
         "91.7588379765711"
        ],
        [
         "5",
         "31.86362919746959",
         "88.43194161870072"
        ],
        [
         "6",
         "37.618187575214975",
         "89.5914317427238"
        ]
       ],
       "shape": {
        "columns": 2,
        "rows": 7
       }
      },
      "text/html": [
       "<div>\n",
       "<style scoped>\n",
       "    .dataframe tbody tr th:only-of-type {\n",
       "        vertical-align: middle;\n",
       "    }\n",
       "\n",
       "    .dataframe tbody tr th {\n",
       "        vertical-align: top;\n",
       "    }\n",
       "\n",
       "    .dataframe thead th {\n",
       "        text-align: right;\n",
       "    }\n",
       "</style>\n",
       "<table border=\"1\" class=\"dataframe\">\n",
       "  <thead>\n",
       "    <tr style=\"text-align: right;\">\n",
       "      <th></th>\n",
       "      <th>obs_ci_lower</th>\n",
       "      <th>obs_ci_upper</th>\n",
       "    </tr>\n",
       "  </thead>\n",
       "  <tbody>\n",
       "    <tr>\n",
       "      <th>0</th>\n",
       "      <td>65.752385</td>\n",
       "      <td>117.395942</td>\n",
       "    </tr>\n",
       "    <tr>\n",
       "      <th>1</th>\n",
       "      <td>23.201053</td>\n",
       "      <td>75.722295</td>\n",
       "    </tr>\n",
       "    <tr>\n",
       "      <th>2</th>\n",
       "      <td>42.057445</td>\n",
       "      <td>93.810506</td>\n",
       "    </tr>\n",
       "    <tr>\n",
       "      <th>3</th>\n",
       "      <td>33.580139</td>\n",
       "      <td>85.373305</td>\n",
       "    </tr>\n",
       "    <tr>\n",
       "      <th>4</th>\n",
       "      <td>37.219981</td>\n",
       "      <td>91.758838</td>\n",
       "    </tr>\n",
       "    <tr>\n",
       "      <th>5</th>\n",
       "      <td>31.863629</td>\n",
       "      <td>88.431942</td>\n",
       "    </tr>\n",
       "    <tr>\n",
       "      <th>6</th>\n",
       "      <td>37.618188</td>\n",
       "      <td>89.591432</td>\n",
       "    </tr>\n",
       "  </tbody>\n",
       "</table>\n",
       "</div>"
      ],
      "text/plain": [
       "   obs_ci_lower  obs_ci_upper\n",
       "0     65.752385    117.395942\n",
       "1     23.201053     75.722295\n",
       "2     42.057445     93.810506\n",
       "3     33.580139     85.373305\n",
       "4     37.219981     91.758838\n",
       "5     31.863629     88.431942\n",
       "6     37.618188     89.591432"
      ]
     },
     "execution_count": 42,
     "metadata": {},
     "output_type": "execute_result"
    }
   ],
   "source": [
    "# Get 95% prediction interval for each student.\n",
    "\n",
    "pred.summary_frame()[['obs_ci_lower', 'obs_ci_upper']]"
   ]
  },
  {
   "cell_type": "code",
   "execution_count": null,
   "id": "b95f74cc",
   "metadata": {},
   "outputs": [],
   "source": []
  }
 ],
 "metadata": {
  "kernelspec": {
   "display_name": "grade-prediction",
   "language": "python",
   "name": "python3"
  },
  "language_info": {
   "codemirror_mode": {
    "name": "ipython",
    "version": 3
   },
   "file_extension": ".py",
   "mimetype": "text/x-python",
   "name": "python",
   "nbconvert_exporter": "python",
   "pygments_lexer": "ipython3",
   "version": "3.13.5"
  }
 },
 "nbformat": 4,
 "nbformat_minor": 5
}
